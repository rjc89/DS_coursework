{
 "cells": [
  {
   "cell_type": "code",
   "execution_count": null,
   "metadata": {
    "collapsed": true
   },
   "outputs": [],
   "source": [
    "# Data Source: https://www.kaggle.com/worldbank/world-development-indicators\n",
    "# Folder: 'world-development-indicators'"
   ]
  },
  {
   "cell_type": "markdown",
   "metadata": {},
   "source": [
    "<br><p style=\"font-family: Arial; font-size:3.75em;color:purple; font-style:bold\">\n",
    "Matplotlib: Exploring <br> <br> <br>Data Visualization</p><br><br>"
   ]
  },
  {
   "cell_type": "markdown",
   "metadata": {},
   "source": [
    "<br><br><center><h1 style=\"font-size:2em;color:#2467C0\">World Development Indicators</h1></center>\n",
    "<br>\n",
    "<table>\n",
    "<col width=\"550\">\n",
    "<col width=\"450\">\n",
    "<tr>\n",
    "<td><img src=\"https://upload.wikimedia.org/wikipedia/commons/4/46/North_South_divide.svg\" align=\"middle\" style=\"width:550px;height:360px;\"/></td>\n",
    "<td>\n",
    "This week, we will be using an open dataset from <a href=\"https://www.kaggle.com\">Kaggle</a>. It is  <a href=\"https://www.kaggle.com/worldbank/world-development-indicators\">The World Development Indicators</a> dataset obtained from the World Bank containing over a thousand annual indicators of economic development from hundreds of countries around the world.\n",
    "<br>\n",
    "<br>\n",
    "This is a slightly modified version of the original dataset from <a href=\"http://data.worldbank.org/data-catalog/world-development-indicators\">The World Bank</a>\n",
    "<br>\n",
    "<br>\n",
    "List of the <a href=\"https://www.kaggle.com/benhamner/d/worldbank/world-development-indicators/indicators-in-data\">available indicators</a> and a <a href=\"https://www.kaggle.com/benhamner/d/worldbank/world-development-indicators/countries-in-the-wdi-data\">list of the available countries</a>.\n",
    "</td>\n",
    "</tr>\n",
    "</table>"
   ]
  },
  {
   "cell_type": "markdown",
   "metadata": {},
   "source": [
    "# Step 1: Initial exploration of the Dataset"
   ]
  },
  {
   "cell_type": "code",
   "execution_count": 5,
   "metadata": {
    "collapsed": true
   },
   "outputs": [],
   "source": [
    "# import pandas as pd\n",
    "# import numpy as np\n",
    "# import random\n",
    "# import matplotlib.pyplot as plt\n",
    "\n",
    "import pandas as pd\n",
    "import numpy as np\n",
    "import random\n",
    "import matplotlib.pyplot as plt"
   ]
  },
  {
   "cell_type": "code",
   "execution_count": 6,
   "metadata": {},
   "outputs": [
    {
     "data": {
      "text/plain": [
       "(5656458, 6)"
      ]
     },
     "execution_count": 6,
     "metadata": {},
     "output_type": "execute_result"
    }
   ],
   "source": [
    "# data = pd.read_csv('/Users/constar/Desktop/UCSanDiego_DS_in_Python/Week5-Visualization/Indicators.csv')\n",
    "# data.shape\n",
    "\n",
    "data = pd.read_csv('/Users/constar/Desktop/UCSanDiego_DS_in_Python/Week5-Visualization/Indicators.csv')\n",
    "data.shape"
   ]
  },
  {
   "cell_type": "markdown",
   "metadata": {},
   "source": [
    "This is a really large dataset, at least in terms of the number of rows.  But with 6 columns, what does this hold?"
   ]
  },
  {
   "cell_type": "code",
   "execution_count": 7,
   "metadata": {},
   "outputs": [
    {
     "data": {
      "text/html": [
       "<div>\n",
       "<style>\n",
       "    .dataframe thead tr:only-child th {\n",
       "        text-align: right;\n",
       "    }\n",
       "\n",
       "    .dataframe thead th {\n",
       "        text-align: left;\n",
       "    }\n",
       "\n",
       "    .dataframe tbody tr th {\n",
       "        vertical-align: top;\n",
       "    }\n",
       "</style>\n",
       "<table border=\"1\" class=\"dataframe\">\n",
       "  <thead>\n",
       "    <tr style=\"text-align: right;\">\n",
       "      <th></th>\n",
       "      <th>CountryName</th>\n",
       "      <th>CountryCode</th>\n",
       "      <th>IndicatorName</th>\n",
       "      <th>IndicatorCode</th>\n",
       "      <th>Year</th>\n",
       "      <th>Value</th>\n",
       "    </tr>\n",
       "  </thead>\n",
       "  <tbody>\n",
       "    <tr>\n",
       "      <th>0</th>\n",
       "      <td>Arab World</td>\n",
       "      <td>ARB</td>\n",
       "      <td>Adolescent fertility rate (births per 1,000 wo...</td>\n",
       "      <td>SP.ADO.TFRT</td>\n",
       "      <td>1960</td>\n",
       "      <td>1.335609e+02</td>\n",
       "    </tr>\n",
       "    <tr>\n",
       "      <th>1</th>\n",
       "      <td>Arab World</td>\n",
       "      <td>ARB</td>\n",
       "      <td>Age dependency ratio (% of working-age populat...</td>\n",
       "      <td>SP.POP.DPND</td>\n",
       "      <td>1960</td>\n",
       "      <td>8.779760e+01</td>\n",
       "    </tr>\n",
       "    <tr>\n",
       "      <th>2</th>\n",
       "      <td>Arab World</td>\n",
       "      <td>ARB</td>\n",
       "      <td>Age dependency ratio, old (% of working-age po...</td>\n",
       "      <td>SP.POP.DPND.OL</td>\n",
       "      <td>1960</td>\n",
       "      <td>6.634579e+00</td>\n",
       "    </tr>\n",
       "    <tr>\n",
       "      <th>3</th>\n",
       "      <td>Arab World</td>\n",
       "      <td>ARB</td>\n",
       "      <td>Age dependency ratio, young (% of working-age ...</td>\n",
       "      <td>SP.POP.DPND.YG</td>\n",
       "      <td>1960</td>\n",
       "      <td>8.102333e+01</td>\n",
       "    </tr>\n",
       "    <tr>\n",
       "      <th>4</th>\n",
       "      <td>Arab World</td>\n",
       "      <td>ARB</td>\n",
       "      <td>Arms exports (SIPRI trend indicator values)</td>\n",
       "      <td>MS.MIL.XPRT.KD</td>\n",
       "      <td>1960</td>\n",
       "      <td>3.000000e+06</td>\n",
       "    </tr>\n",
       "    <tr>\n",
       "      <th>5</th>\n",
       "      <td>Arab World</td>\n",
       "      <td>ARB</td>\n",
       "      <td>Arms imports (SIPRI trend indicator values)</td>\n",
       "      <td>MS.MIL.MPRT.KD</td>\n",
       "      <td>1960</td>\n",
       "      <td>5.380000e+08</td>\n",
       "    </tr>\n",
       "    <tr>\n",
       "      <th>6</th>\n",
       "      <td>Arab World</td>\n",
       "      <td>ARB</td>\n",
       "      <td>Birth rate, crude (per 1,000 people)</td>\n",
       "      <td>SP.DYN.CBRT.IN</td>\n",
       "      <td>1960</td>\n",
       "      <td>4.769789e+01</td>\n",
       "    </tr>\n",
       "    <tr>\n",
       "      <th>7</th>\n",
       "      <td>Arab World</td>\n",
       "      <td>ARB</td>\n",
       "      <td>CO2 emissions (kt)</td>\n",
       "      <td>EN.ATM.CO2E.KT</td>\n",
       "      <td>1960</td>\n",
       "      <td>5.956399e+04</td>\n",
       "    </tr>\n",
       "    <tr>\n",
       "      <th>8</th>\n",
       "      <td>Arab World</td>\n",
       "      <td>ARB</td>\n",
       "      <td>CO2 emissions (metric tons per capita)</td>\n",
       "      <td>EN.ATM.CO2E.PC</td>\n",
       "      <td>1960</td>\n",
       "      <td>6.439635e-01</td>\n",
       "    </tr>\n",
       "    <tr>\n",
       "      <th>9</th>\n",
       "      <td>Arab World</td>\n",
       "      <td>ARB</td>\n",
       "      <td>CO2 emissions from gaseous fuel consumption (%...</td>\n",
       "      <td>EN.ATM.CO2E.GF.ZS</td>\n",
       "      <td>1960</td>\n",
       "      <td>5.041292e+00</td>\n",
       "    </tr>\n",
       "  </tbody>\n",
       "</table>\n",
       "</div>"
      ],
      "text/plain": [
       "  CountryName CountryCode                                      IndicatorName  \\\n",
       "0  Arab World         ARB  Adolescent fertility rate (births per 1,000 wo...   \n",
       "1  Arab World         ARB  Age dependency ratio (% of working-age populat...   \n",
       "2  Arab World         ARB  Age dependency ratio, old (% of working-age po...   \n",
       "3  Arab World         ARB  Age dependency ratio, young (% of working-age ...   \n",
       "4  Arab World         ARB        Arms exports (SIPRI trend indicator values)   \n",
       "5  Arab World         ARB        Arms imports (SIPRI trend indicator values)   \n",
       "6  Arab World         ARB               Birth rate, crude (per 1,000 people)   \n",
       "7  Arab World         ARB                                 CO2 emissions (kt)   \n",
       "8  Arab World         ARB             CO2 emissions (metric tons per capita)   \n",
       "9  Arab World         ARB  CO2 emissions from gaseous fuel consumption (%...   \n",
       "\n",
       "       IndicatorCode  Year         Value  \n",
       "0        SP.ADO.TFRT  1960  1.335609e+02  \n",
       "1        SP.POP.DPND  1960  8.779760e+01  \n",
       "2     SP.POP.DPND.OL  1960  6.634579e+00  \n",
       "3     SP.POP.DPND.YG  1960  8.102333e+01  \n",
       "4     MS.MIL.XPRT.KD  1960  3.000000e+06  \n",
       "5     MS.MIL.MPRT.KD  1960  5.380000e+08  \n",
       "6     SP.DYN.CBRT.IN  1960  4.769789e+01  \n",
       "7     EN.ATM.CO2E.KT  1960  5.956399e+04  \n",
       "8     EN.ATM.CO2E.PC  1960  6.439635e-01  \n",
       "9  EN.ATM.CO2E.GF.ZS  1960  5.041292e+00  "
      ]
     },
     "execution_count": 7,
     "metadata": {},
     "output_type": "execute_result"
    }
   ],
   "source": [
    "#data.head(10)\n",
    "data.head(10)"
   ]
  },
  {
   "cell_type": "markdown",
   "metadata": {},
   "source": [
    "Looks like it has different indicators for different countries with the year and value of the indicator. "
   ]
  },
  {
   "cell_type": "markdown",
   "metadata": {},
   "source": [
    "### How many UNIQUE country names are there ?"
   ]
  },
  {
   "cell_type": "code",
   "execution_count": 11,
   "metadata": {},
   "outputs": [
    {
     "data": {
      "text/plain": [
       "247"
      ]
     },
     "execution_count": 11,
     "metadata": {},
     "output_type": "execute_result"
    }
   ],
   "source": [
    "# countries = data['CountryName'].unique().tolist()\n",
    "# len(countries)\n",
    "\n",
    "countries = data['CountryName'].unique().tolist()\n",
    "len(countries)"
   ]
  },
  {
   "cell_type": "markdown",
   "metadata": {},
   "source": [
    "### Are there same number of country codes ?"
   ]
  },
  {
   "cell_type": "code",
   "execution_count": 12,
   "metadata": {},
   "outputs": [
    {
     "data": {
      "text/plain": [
       "247"
      ]
     },
     "execution_count": 12,
     "metadata": {},
     "output_type": "execute_result"
    }
   ],
   "source": [
    "# How many unique country codes are there ? (should be the same #)\n",
    "# countryCodes = data['CountryCode'].unique().tolist()\n",
    "# len(countryCodes)\n",
    "\n",
    "countryCodes = data['CountryCode'].unique().tolist()\n",
    "len(countryCodes)"
   ]
  },
  {
   "cell_type": "markdown",
   "metadata": {},
   "source": [
    "### Are there many indicators or few ?"
   ]
  },
  {
   "cell_type": "code",
   "execution_count": 13,
   "metadata": {},
   "outputs": [
    {
     "data": {
      "text/plain": [
       "1344"
      ]
     },
     "execution_count": 13,
     "metadata": {},
     "output_type": "execute_result"
    }
   ],
   "source": [
    "# How many unique indicators are there ? (should be the same #)\n",
    "# indicators = data['IndicatorName'].unique().tolist()\n",
    "# len(indicators)\n",
    "\n",
    "indicators = data['IndicatorName'].unique().tolist()\n",
    "len(indicators)"
   ]
  },
  {
   "cell_type": "markdown",
   "metadata": {},
   "source": [
    "### How many years of data do we have ?"
   ]
  },
  {
   "cell_type": "code",
   "execution_count": 14,
   "metadata": {},
   "outputs": [
    {
     "data": {
      "text/plain": [
       "56"
      ]
     },
     "execution_count": 14,
     "metadata": {},
     "output_type": "execute_result"
    }
   ],
   "source": [
    "# How many years of data do we have ?\n",
    "# years = data['Year'].unique().tolist()\n",
    "# len(years)\n",
    "\n",
    "years = data['Year'].unique().tolist()\n",
    "len(years)"
   ]
  },
  {
   "cell_type": "code",
   "execution_count": 16,
   "metadata": {},
   "outputs": [
    {
     "data": {
      "text/plain": [
       "[1960,\n",
       " 1961,\n",
       " 1962,\n",
       " 1963,\n",
       " 1964,\n",
       " 1965,\n",
       " 1966,\n",
       " 1967,\n",
       " 1968,\n",
       " 1969,\n",
       " 1970,\n",
       " 1971,\n",
       " 1972,\n",
       " 1973,\n",
       " 1974,\n",
       " 1975,\n",
       " 1976,\n",
       " 1977,\n",
       " 1978,\n",
       " 1979,\n",
       " 1980,\n",
       " 1981,\n",
       " 1982,\n",
       " 1983,\n",
       " 1984,\n",
       " 1985,\n",
       " 1986,\n",
       " 1987,\n",
       " 1988,\n",
       " 1989,\n",
       " 1990,\n",
       " 1991,\n",
       " 1992,\n",
       " 1993,\n",
       " 1994,\n",
       " 1995,\n",
       " 1996,\n",
       " 1997,\n",
       " 1998,\n",
       " 1999,\n",
       " 2000,\n",
       " 2001,\n",
       " 2002,\n",
       " 2003,\n",
       " 2004,\n",
       " 2005,\n",
       " 2006,\n",
       " 2007,\n",
       " 2008,\n",
       " 2009,\n",
       " 2010,\n",
       " 2011,\n",
       " 2012,\n",
       " 2013,\n",
       " 2014,\n",
       " 2015]"
      ]
     },
     "execution_count": 16,
     "metadata": {},
     "output_type": "execute_result"
    }
   ],
   "source": [
    "years"
   ]
  },
  {
   "cell_type": "markdown",
   "metadata": {},
   "source": [
    "### What's the range of years?"
   ]
  },
  {
   "cell_type": "code",
   "execution_count": 15,
   "metadata": {},
   "outputs": [
    {
     "name": "stdout",
     "output_type": "stream",
     "text": [
      "1960  to  2015\n"
     ]
    }
   ],
   "source": [
    "# print(min(years),\" to \",max(years))\n",
    "\n",
    "print(min(years), \" to \",max(years))"
   ]
  },
  {
   "cell_type": "markdown",
   "metadata": {},
   "source": [
    "<p style=\"font-family: Arial; font-size:2.5em;color:blue; font-style:bold\">\n",
    "Matplotlib: Basic Plotting, Part 1</p><br>"
   ]
  },
  {
   "cell_type": "markdown",
   "metadata": {},
   "source": [
    "### Lets pick a country and an indicator to explore: CO2 Emissions per capita and the USA"
   ]
  },
  {
   "cell_type": "code",
   "execution_count": 18,
   "metadata": {
    "collapsed": true
   },
   "outputs": [],
   "source": [
    "# # select CO2 emissions for the United States\n",
    "# hist_indicator = 'CO2 emissions \\(metric'\n",
    "# hist_country = 'USA'\n",
    "\n",
    "# mask1 = data['IndicatorName'].str.contains(hist_indicator) \n",
    "# mask2 = data['CountryCode'].str.contains(hist_country)\n",
    "\n",
    "# # stage is just those indicators matching the USA for country code and CO2 emissions over time.\n",
    "# stage = data[mask1 & mask2]\n",
    "\n",
    "\n",
    "\n",
    "#CO2 emissions for US\n",
    "\n",
    "hist_indicator = 'CO2 emissions \\(metric'\n",
    "hist_country = 'USA'\n",
    "\n",
    "mask1 = data['IndicatorName'].str.contains(hist_indicator)\n",
    "mask2 = data['CountryCode'].str.contains(hist_country)\n",
    "\n",
    "stage = data[mask1 & mask2]"
   ]
  },
  {
   "cell_type": "code",
   "execution_count": 19,
   "metadata": {},
   "outputs": [
    {
     "data": {
      "text/html": [
       "<div>\n",
       "<style>\n",
       "    .dataframe thead tr:only-child th {\n",
       "        text-align: right;\n",
       "    }\n",
       "\n",
       "    .dataframe thead th {\n",
       "        text-align: left;\n",
       "    }\n",
       "\n",
       "    .dataframe tbody tr th {\n",
       "        vertical-align: top;\n",
       "    }\n",
       "</style>\n",
       "<table border=\"1\" class=\"dataframe\">\n",
       "  <thead>\n",
       "    <tr style=\"text-align: right;\">\n",
       "      <th></th>\n",
       "      <th>CountryName</th>\n",
       "      <th>CountryCode</th>\n",
       "      <th>IndicatorName</th>\n",
       "      <th>IndicatorCode</th>\n",
       "      <th>Year</th>\n",
       "      <th>Value</th>\n",
       "    </tr>\n",
       "  </thead>\n",
       "  <tbody>\n",
       "    <tr>\n",
       "      <th>22232</th>\n",
       "      <td>United States</td>\n",
       "      <td>USA</td>\n",
       "      <td>CO2 emissions (metric tons per capita)</td>\n",
       "      <td>EN.ATM.CO2E.PC</td>\n",
       "      <td>1960</td>\n",
       "      <td>15.999779</td>\n",
       "    </tr>\n",
       "    <tr>\n",
       "      <th>48708</th>\n",
       "      <td>United States</td>\n",
       "      <td>USA</td>\n",
       "      <td>CO2 emissions (metric tons per capita)</td>\n",
       "      <td>EN.ATM.CO2E.PC</td>\n",
       "      <td>1961</td>\n",
       "      <td>15.681256</td>\n",
       "    </tr>\n",
       "    <tr>\n",
       "      <th>77087</th>\n",
       "      <td>United States</td>\n",
       "      <td>USA</td>\n",
       "      <td>CO2 emissions (metric tons per capita)</td>\n",
       "      <td>EN.ATM.CO2E.PC</td>\n",
       "      <td>1962</td>\n",
       "      <td>16.013937</td>\n",
       "    </tr>\n",
       "    <tr>\n",
       "      <th>105704</th>\n",
       "      <td>United States</td>\n",
       "      <td>USA</td>\n",
       "      <td>CO2 emissions (metric tons per capita)</td>\n",
       "      <td>EN.ATM.CO2E.PC</td>\n",
       "      <td>1963</td>\n",
       "      <td>16.482762</td>\n",
       "    </tr>\n",
       "    <tr>\n",
       "      <th>134742</th>\n",
       "      <td>United States</td>\n",
       "      <td>USA</td>\n",
       "      <td>CO2 emissions (metric tons per capita)</td>\n",
       "      <td>EN.ATM.CO2E.PC</td>\n",
       "      <td>1964</td>\n",
       "      <td>16.968119</td>\n",
       "    </tr>\n",
       "  </tbody>\n",
       "</table>\n",
       "</div>"
      ],
      "text/plain": [
       "          CountryName CountryCode                           IndicatorName  \\\n",
       "22232   United States         USA  CO2 emissions (metric tons per capita)   \n",
       "48708   United States         USA  CO2 emissions (metric tons per capita)   \n",
       "77087   United States         USA  CO2 emissions (metric tons per capita)   \n",
       "105704  United States         USA  CO2 emissions (metric tons per capita)   \n",
       "134742  United States         USA  CO2 emissions (metric tons per capita)   \n",
       "\n",
       "         IndicatorCode  Year      Value  \n",
       "22232   EN.ATM.CO2E.PC  1960  15.999779  \n",
       "48708   EN.ATM.CO2E.PC  1961  15.681256  \n",
       "77087   EN.ATM.CO2E.PC  1962  16.013937  \n",
       "105704  EN.ATM.CO2E.PC  1963  16.482762  \n",
       "134742  EN.ATM.CO2E.PC  1964  16.968119  "
      ]
     },
     "execution_count": 19,
     "metadata": {},
     "output_type": "execute_result"
    }
   ],
   "source": [
    "# stage.head()\n",
    "\n",
    "stage.head()"
   ]
  },
  {
   "cell_type": "markdown",
   "metadata": {},
   "source": [
    "### Let's see how emissions have changed over time using MatplotLib"
   ]
  },
  {
   "cell_type": "code",
   "execution_count": 20,
   "metadata": {},
   "outputs": [
    {
     "data": {
      "image/png": "[encoded data removed]",
      "text/plain": [
       "<matplotlib.figure.Figure at 0x1111e4dd8>"
      ]
     },
     "metadata": {},
     "output_type": "display_data"
    }
   ],
   "source": [
    "# # get the years\n",
    "# years = stage['Year'].values\n",
    "# # get the values \n",
    "# co2 = stage['Value'].values\n",
    "\n",
    "# # create\n",
    "# plt.bar(years,co2)\n",
    "# plt.show()\n",
    "\n",
    "years = stage['Year'].values\n",
    "\n",
    "co2 = stage['Value'].values\n",
    "\n",
    "plt.bar(years,co2)\n",
    "\n",
    "plt.show()"
   ]
  },
  {
   "cell_type": "markdown",
   "metadata": {},
   "source": [
    "Turns out emissions per capita have dropped a bit over time, but let's make this graphic a bit more appealing before we continue to explore it."
   ]
  },
  {
   "cell_type": "code",
   "execution_count": 21,
   "metadata": {},
   "outputs": [
    {
     "data": {
      "text/plain": [
       "[1959, 2011, 0, 25]"
      ]
     },
     "execution_count": 21,
     "metadata": {},
     "output_type": "execute_result"
    },
    {
     "data": {
      "image/png": "[encoded data removed]",
      "text/plain": [
       "<matplotlib.figure.Figure at 0x110898128>"
      ]
     },
     "metadata": {},
     "output_type": "display_data"
    }
   ],
   "source": [
    "# # switch to a line plot\n",
    "# plt.plot(stage['Year'].values, stage['Value'].values)\n",
    "\n",
    "# # Label the axes\n",
    "# plt.xlabel('Year')\n",
    "# plt.ylabel(stage['IndicatorName'].iloc[0])\n",
    "\n",
    "# #label the figure\n",
    "# plt.title('CO2 Emissions in USA')\n",
    "\n",
    "# # to make more honest, start they y axis at 0\n",
    "# plt.axis([1959, 2011,0,25])\n",
    "\n",
    "# plt.show()\n",
    "\n",
    "%matplotlib inline\n",
    "\n",
    "plt.plot(stage['Year'].values, stage[\"Value\"].values)\n",
    "\n",
    "plt.xlabel('Year')\n",
    "plt.ylabel(stage['IndicatorName'].iloc[0])\n",
    "\n",
    "plt.title('CO2 emission in USA')\n",
    "\n",
    "plt.axis([1959, 2011, 0, 25])\n"
   ]
  },
  {
   "cell_type": "markdown",
   "metadata": {},
   "source": [
    "### Using Histograms to explore the distribution of values\n",
    "We could also visualize this data as a histogram to better explore the ranges of values in CO2 production per year. "
   ]
  },
  {
   "cell_type": "code",
   "execution_count": 22,
   "metadata": {
    "collapsed": true
   },
   "outputs": [],
   "source": [
    "# # If you want to just include those within one standard deviation fo the mean, you could do the following\n",
    "# # lower = stage['Value'].mean() - stage['Value'].std()\n",
    "# # upper = stage['Value'].mean() + stage['Value'].std()\n",
    "# # hist_data = [x for x in stage[:10000]['Value'] if x>lower and x<upper ]\n",
    "\n",
    "# # Otherwise, let's look at all the data\n",
    "# hist_data = stage['Value'].values\n",
    "\n",
    "hist_data = stage['Value'].values"
   ]
  },
  {
   "cell_type": "code",
   "execution_count": 23,
   "metadata": {},
   "outputs": [
    {
     "name": "stdout",
     "output_type": "stream",
     "text": [
      "52\n"
     ]
    }
   ],
   "source": [
    "print(len(hist_data))"
   ]
  },
  {
   "cell_type": "code",
   "execution_count": 24,
   "metadata": {
    "scrolled": true
   },
   "outputs": [
    {
     "data": {
      "image/png": "[encoded data removed]",
      "text/plain": [
       "<matplotlib.figure.Figure at 0x111b6ee48>"
      ]
     },
     "metadata": {},
     "output_type": "display_data"
    }
   ],
   "source": [
    "# # the histogram of the data\n",
    "# plt.hist(hist_data, 10, normed=False, facecolor='green')\n",
    "\n",
    "# plt.xlabel(stage['IndicatorName'].iloc[0])\n",
    "# plt.ylabel('# of Years')\n",
    "# plt.title('Histogram Example')\n",
    "\n",
    "# plt.grid(True)\n",
    "\n",
    "# plt.show()\n",
    "\n",
    "plt.hist(hist_data, 10, normed=False, facecolor = 'green')\n",
    "\n",
    "plt.xlabel(stage['IndicatorName'].iloc[0])\n",
    "plt.ylabel('# of Years')\n",
    "\n",
    "plt.title('Histogram')\n",
    "\n",
    "plt.grid(True)\n"
   ]
  },
  {
   "cell_type": "markdown",
   "metadata": {},
   "source": [
    "So the USA has many years where it produced between 19-20 metric tons per capita with outliers on either side."
   ]
  },
  {
   "cell_type": "markdown",
   "metadata": {},
   "source": [
    "### But how do the USA's numbers relate to those of other countries?"
   ]
  },
  {
   "cell_type": "code",
   "execution_count": 25,
   "metadata": {},
   "outputs": [
    {
     "data": {
      "text/html": [
       "<div>\n",
       "<style>\n",
       "    .dataframe thead tr:only-child th {\n",
       "        text-align: right;\n",
       "    }\n",
       "\n",
       "    .dataframe thead th {\n",
       "        text-align: left;\n",
       "    }\n",
       "\n",
       "    .dataframe tbody tr th {\n",
       "        vertical-align: top;\n",
       "    }\n",
       "</style>\n",
       "<table border=\"1\" class=\"dataframe\">\n",
       "  <thead>\n",
       "    <tr style=\"text-align: right;\">\n",
       "      <th></th>\n",
       "      <th>CountryName</th>\n",
       "      <th>CountryCode</th>\n",
       "      <th>IndicatorName</th>\n",
       "      <th>IndicatorCode</th>\n",
       "      <th>Year</th>\n",
       "      <th>Value</th>\n",
       "    </tr>\n",
       "  </thead>\n",
       "  <tbody>\n",
       "    <tr>\n",
       "      <th>5026275</th>\n",
       "      <td>Arab World</td>\n",
       "      <td>ARB</td>\n",
       "      <td>CO2 emissions (metric tons per capita)</td>\n",
       "      <td>EN.ATM.CO2E.PC</td>\n",
       "      <td>2011</td>\n",
       "      <td>4.724500</td>\n",
       "    </tr>\n",
       "    <tr>\n",
       "      <th>5026788</th>\n",
       "      <td>Caribbean small states</td>\n",
       "      <td>CSS</td>\n",
       "      <td>CO2 emissions (metric tons per capita)</td>\n",
       "      <td>EN.ATM.CO2E.PC</td>\n",
       "      <td>2011</td>\n",
       "      <td>9.692960</td>\n",
       "    </tr>\n",
       "    <tr>\n",
       "      <th>5027295</th>\n",
       "      <td>Central Europe and the Baltics</td>\n",
       "      <td>CEB</td>\n",
       "      <td>CO2 emissions (metric tons per capita)</td>\n",
       "      <td>EN.ATM.CO2E.PC</td>\n",
       "      <td>2011</td>\n",
       "      <td>6.911131</td>\n",
       "    </tr>\n",
       "    <tr>\n",
       "      <th>5027870</th>\n",
       "      <td>East Asia &amp; Pacific (all income levels)</td>\n",
       "      <td>EAS</td>\n",
       "      <td>CO2 emissions (metric tons per capita)</td>\n",
       "      <td>EN.ATM.CO2E.PC</td>\n",
       "      <td>2011</td>\n",
       "      <td>5.859548</td>\n",
       "    </tr>\n",
       "    <tr>\n",
       "      <th>5028456</th>\n",
       "      <td>East Asia &amp; Pacific (developing only)</td>\n",
       "      <td>EAP</td>\n",
       "      <td>CO2 emissions (metric tons per capita)</td>\n",
       "      <td>EN.ATM.CO2E.PC</td>\n",
       "      <td>2011</td>\n",
       "      <td>5.302499</td>\n",
       "    </tr>\n",
       "  </tbody>\n",
       "</table>\n",
       "</div>"
      ],
      "text/plain": [
       "                                     CountryName CountryCode  \\\n",
       "5026275                               Arab World         ARB   \n",
       "5026788                   Caribbean small states         CSS   \n",
       "5027295           Central Europe and the Baltics         CEB   \n",
       "5027870  East Asia & Pacific (all income levels)         EAS   \n",
       "5028456    East Asia & Pacific (developing only)         EAP   \n",
       "\n",
       "                                  IndicatorName   IndicatorCode  Year  \\\n",
       "5026275  CO2 emissions (metric tons per capita)  EN.ATM.CO2E.PC  2011   \n",
       "5026788  CO2 emissions (metric tons per capita)  EN.ATM.CO2E.PC  2011   \n",
       "5027295  CO2 emissions (metric tons per capita)  EN.ATM.CO2E.PC  2011   \n",
       "5027870  CO2 emissions (metric tons per capita)  EN.ATM.CO2E.PC  2011   \n",
       "5028456  CO2 emissions (metric tons per capita)  EN.ATM.CO2E.PC  2011   \n",
       "\n",
       "            Value  \n",
       "5026275  4.724500  \n",
       "5026788  9.692960  \n",
       "5027295  6.911131  \n",
       "5027870  5.859548  \n",
       "5028456  5.302499  "
      ]
     },
     "execution_count": 25,
     "metadata": {},
     "output_type": "execute_result"
    }
   ],
   "source": [
    "# # select CO2 emissions for all countries in 2011\n",
    "# hist_indicator = 'CO2 emissions \\(metric'\n",
    "# hist_year = 2011\n",
    "\n",
    "# mask1 = data['IndicatorName'].str.contains(hist_indicator) \n",
    "# mask2 = data['Year'].isin([hist_year])\n",
    "\n",
    "# # apply our mask\n",
    "# co2_2011 = data[mask1 & mask2]\n",
    "# co2_2011.head()\n",
    "\n",
    "hist_indicator = \"CO2 emissions \\(metric\"\n",
    "hist_year = 2011\n",
    "\n",
    "mask1 = data['IndicatorName'].str.contains(hist_indicator)\n",
    "mask2 = data['Year'].isin([hist_year])\n",
    "\n",
    "co2_2011 = data [mask1 & mask2]\n",
    "co2_2011.head()\n"
   ]
  },
  {
   "cell_type": "markdown",
   "metadata": {},
   "source": [
    "For how many countries do we have CO2 per capita emissions data in 2011"
   ]
  },
  {
   "cell_type": "code",
   "execution_count": 28,
   "metadata": {},
   "outputs": [
    {
     "data": {
      "text/plain": [
       "232"
      ]
     },
     "execution_count": 28,
     "metadata": {},
     "output_type": "execute_result"
    }
   ],
   "source": [
    "len(co2_2011)"
   ]
  },
  {
   "cell_type": "code",
   "execution_count": 34,
   "metadata": {},
   "outputs": [
    {
     "data": {
      "image/png": "[encoded data removed]",
      "text/plain": [
       "<matplotlib.figure.Figure at 0x111b5a320>"
      ]
     },
     "metadata": {},
     "output_type": "display_data"
    }
   ],
   "source": [
    "# # let's plot a histogram of the emmissions per capita by country\n",
    "\n",
    "# # subplots returns a touple with the figure, axis attributes.\n",
    "# fig, ax = plt.subplots()\n",
    "\n",
    "# ax.annotate(\"USA\",\n",
    "#             xy=(18, 5), xycoords='data',\n",
    "#             xytext=(18, 30), textcoords='data',\n",
    "#             arrowprops=dict(arrowstyle=\"->\",\n",
    "#                             connectionstyle=\"arc3\"),\n",
    "#             )\n",
    "\n",
    "# plt.hist(co2_2011['Value'], 10, normed=False, facecolor='green')\n",
    "\n",
    "# plt.xlabel(stage['IndicatorName'].iloc[0])\n",
    "# plt.ylabel('# of Countries')\n",
    "# plt.title('Histogram of CO2 Emissions Per Capita')\n",
    "\n",
    "# #plt.axis([10, 22, 0, 14])\n",
    "# plt.grid(True)\n",
    "\n",
    "# plt.show()\n",
    "\n",
    "\n",
    "fig, ax = plt.subplots()\n",
    "\n",
    "ax.annotate('USA',\n",
    "           xy = (18, 5), xycoords = 'data',\n",
    "           xytext = (18, 20), textcoords = 'data',\n",
    "           arrowprops = dict(arrowstyle=\"->\",\n",
    "                            connectionstyle='arc3'),\n",
    "           )\n",
    "\n",
    "plt.hist(co2_2011['Value'], 10, normed=False, facecolor='g')\n",
    "\n",
    "plt.xlabel(stage['IndicatorName'].iloc[0])\n",
    "plt.ylabel('# of Countries')\n",
    "\n",
    "plt.title('Histogram of CO2 emiss per Capita')\n",
    "\n",
    "plt.axis([10,22,0,14])\n",
    "\n",
    "plt.grid(True)\n",
    "\n"
   ]
  },
  {
   "cell_type": "markdown",
   "metadata": {},
   "source": [
    "So the USA, at ~18 CO2 emissions (metric tons per capital) is quite high among all countries.\n",
    "\n",
    "An interesting next step, which we'll save for you, would be to explore how this relates to other industrialized nations and to look at the outliers with those values in the 40s!"
   ]
  },
  {
   "cell_type": "markdown",
   "metadata": {},
   "source": [
    "<p style=\"font-family: Arial; font-size:2.0em;color:blue; font-style:bold\">\n",
    "Matplotlib: Basic Plotting, Part 2</p>"
   ]
  },
  {
   "cell_type": "markdown",
   "metadata": {},
   "source": [
    "### Relationship between GPD and CO2 Emissions in USA"
   ]
  },
  {
   "cell_type": "code",
   "execution_count": 54,
   "metadata": {
    "collapsed": true
   },
   "outputs": [],
   "source": [
    "# # select GDP Per capita emissions for the United States\n",
    "# hist_indicator = 'GDP per capita \\(constant 2005'\n",
    "# hist_country = 'USA'\n",
    "\n",
    "# mask1 = data['IndicatorName'].str.contains(hist_indicator) \n",
    "# mask2 = data['CountryCode'].str.contains(hist_country)\n",
    "\n",
    "# # stage is just those indicators matching the USA for country code and CO2 emissions over time.\n",
    "# gdp_stage = data[mask1 & mask2]\n",
    "\n",
    "# #plot gdp_stage vs stage\n",
    "\n",
    "hist_indicator = 'GDP per capita \\(constant 2005'\n",
    "hist_country = 'USA'\n",
    "\n",
    "mask1 = data[\"IndicatorName\"].str.contains(hist_indicator)\n",
    "mask2 = data[\"CountryCode\"].str.contains(hist_country)\n",
    "\n",
    "gdp_stage = data[mask1 & mask2]\n",
    "\n"
   ]
  },
  {
   "cell_type": "code",
   "execution_count": 48,
   "metadata": {},
   "outputs": [
    {
     "data": {
      "text/html": [
       "<div>\n",
       "<style>\n",
       "    .dataframe thead tr:only-child th {\n",
       "        text-align: right;\n",
       "    }\n",
       "\n",
       "    .dataframe thead th {\n",
       "        text-align: left;\n",
       "    }\n",
       "\n",
       "    .dataframe tbody tr th {\n",
       "        vertical-align: top;\n",
       "    }\n",
       "</style>\n",
       "<table border=\"1\" class=\"dataframe\">\n",
       "  <thead>\n",
       "    <tr style=\"text-align: right;\">\n",
       "      <th></th>\n",
       "      <th>CountryName</th>\n",
       "      <th>CountryCode</th>\n",
       "      <th>IndicatorName</th>\n",
       "      <th>IndicatorCode</th>\n",
       "      <th>Year</th>\n",
       "      <th>Value</th>\n",
       "    </tr>\n",
       "  </thead>\n",
       "  <tbody>\n",
       "    <tr>\n",
       "      <th>22282</th>\n",
       "      <td>United States</td>\n",
       "      <td>USA</td>\n",
       "      <td>GDP per capita (constant 2005 US$)</td>\n",
       "      <td>NY.GDP.PCAP.KD</td>\n",
       "      <td>1960</td>\n",
       "      <td>15482.707760</td>\n",
       "    </tr>\n",
       "    <tr>\n",
       "      <th>48759</th>\n",
       "      <td>United States</td>\n",
       "      <td>USA</td>\n",
       "      <td>GDP per capita (constant 2005 US$)</td>\n",
       "      <td>NY.GDP.PCAP.KD</td>\n",
       "      <td>1961</td>\n",
       "      <td>15578.409657</td>\n",
       "    </tr>\n",
       "  </tbody>\n",
       "</table>\n",
       "</div>"
      ],
      "text/plain": [
       "         CountryName CountryCode                       IndicatorName  \\\n",
       "22282  United States         USA  GDP per capita (constant 2005 US$)   \n",
       "48759  United States         USA  GDP per capita (constant 2005 US$)   \n",
       "\n",
       "        IndicatorCode  Year         Value  \n",
       "22282  NY.GDP.PCAP.KD  1960  15482.707760  \n",
       "48759  NY.GDP.PCAP.KD  1961  15578.409657  "
      ]
     },
     "execution_count": 48,
     "metadata": {},
     "output_type": "execute_result"
    }
   ],
   "source": [
    "# gdp_stage.head(2)\n",
    "\n",
    "gdp_stage.head(2)"
   ]
  },
  {
   "cell_type": "code",
   "execution_count": 50,
   "metadata": {},
   "outputs": [
    {
     "data": {
      "text/html": [
       "<div>\n",
       "<style>\n",
       "    .dataframe thead tr:only-child th {\n",
       "        text-align: right;\n",
       "    }\n",
       "\n",
       "    .dataframe thead th {\n",
       "        text-align: left;\n",
       "    }\n",
       "\n",
       "    .dataframe tbody tr th {\n",
       "        vertical-align: top;\n",
       "    }\n",
       "</style>\n",
       "<table border=\"1\" class=\"dataframe\">\n",
       "  <thead>\n",
       "    <tr style=\"text-align: right;\">\n",
       "      <th></th>\n",
       "      <th>CountryName</th>\n",
       "      <th>CountryCode</th>\n",
       "      <th>IndicatorName</th>\n",
       "      <th>IndicatorCode</th>\n",
       "      <th>Year</th>\n",
       "      <th>Value</th>\n",
       "    </tr>\n",
       "  </thead>\n",
       "  <tbody>\n",
       "    <tr>\n",
       "      <th>22232</th>\n",
       "      <td>United States</td>\n",
       "      <td>USA</td>\n",
       "      <td>CO2 emissions (metric tons per capita)</td>\n",
       "      <td>EN.ATM.CO2E.PC</td>\n",
       "      <td>1960</td>\n",
       "      <td>15.999779</td>\n",
       "    </tr>\n",
       "    <tr>\n",
       "      <th>48708</th>\n",
       "      <td>United States</td>\n",
       "      <td>USA</td>\n",
       "      <td>CO2 emissions (metric tons per capita)</td>\n",
       "      <td>EN.ATM.CO2E.PC</td>\n",
       "      <td>1961</td>\n",
       "      <td>15.681256</td>\n",
       "    </tr>\n",
       "  </tbody>\n",
       "</table>\n",
       "</div>"
      ],
      "text/plain": [
       "         CountryName CountryCode                           IndicatorName  \\\n",
       "22232  United States         USA  CO2 emissions (metric tons per capita)   \n",
       "48708  United States         USA  CO2 emissions (metric tons per capita)   \n",
       "\n",
       "        IndicatorCode  Year      Value  \n",
       "22232  EN.ATM.CO2E.PC  1960  15.999779  \n",
       "48708  EN.ATM.CO2E.PC  1961  15.681256  "
      ]
     },
     "execution_count": 50,
     "metadata": {},
     "output_type": "execute_result"
    }
   ],
   "source": [
    "stage.head(2)"
   ]
  },
  {
   "cell_type": "code",
   "execution_count": 59,
   "metadata": {},
   "outputs": [
    {
     "data": {
      "text/plain": [
       "<matplotlib.text.Text at 0x123c3a6d8>"
      ]
     },
     "execution_count": 59,
     "metadata": {},
     "output_type": "execute_result"
    },
    {
     "data": {
      "image/png": "[encoded data removed]",
      "text/plain": [
       "<matplotlib.figure.Figure at 0x110d2d7f0>"
      ]
     },
     "metadata": {},
     "output_type": "display_data"
    }
   ],
   "source": [
    "# # switch to a line plot\n",
    "# plt.plot(gdp_stage['Year'].values, gdp_stage['Value'].values)\n",
    "\n",
    "# # Label the axes\n",
    "# plt.xlabel('Year')\n",
    "# plt.ylabel(gdp_stage['IndicatorName'].iloc[0])\n",
    "\n",
    "# #label the figure\n",
    "# plt.title('GDP Per Capita USA')\n",
    "\n",
    "# # to make more honest, start they y axis at 0\n",
    "# #plt.axis([1959, 2011,0,25])\n",
    "\n",
    "# plt.show()\n",
    "\n",
    "plt.plot(gdp_stage['Year'].values, gdp_stage['Value'].values)\n",
    "\n",
    "plt.xlabel('Year')\n",
    "plt.ylabel(gdp_stage['IndicatorName'].iloc[0])\n",
    "\n",
    "plt.title('GDP per capita USA')\n",
    "\n",
    "#plt.axis([1959, 2011, 0,25])\n",
    "\n"
   ]
  },
  {
   "cell_type": "code",
   "execution_count": null,
   "metadata": {
    "collapsed": true
   },
   "outputs": [],
   "source": []
  },
  {
   "cell_type": "markdown",
   "metadata": {},
   "source": [
    "So although we've seen a decline in the CO2 emissions per capita, it does not seem to translate to a decline in GDP per capita"
   ]
  },
  {
   "cell_type": "markdown",
   "metadata": {},
   "source": [
    "### ScatterPlot for comparing GDP against CO2 emissions (per capita)\n",
    "\n",
    "First, we'll need to make sure we're looking at the same time frames"
   ]
  },
  {
   "cell_type": "code",
   "execution_count": 60,
   "metadata": {},
   "outputs": [
    {
     "name": "stdout",
     "output_type": "stream",
     "text": [
      "GDP Min Year =  1960 max:  2014\n",
      "CO2 Min Year =  1960 max:  2011\n"
     ]
    }
   ],
   "source": [
    "# print(\"GDP Min Year = \", gdp_stage['Year'].min(), \"max: \", gdp_stage['Year'].max())\n",
    "# print(\"CO2 Min Year = \", stage['Year'].min(), \"max: \", stage['Year'].max())\n",
    "\n",
    "print('GDP Min Year = ', gdp_stage['Year'].min(), \"max: \", gdp_stage['Year'].max())\n",
    "print(\"CO2 Min Year = \", stage['Year'].min(), \"max: \", stage['Year'].max())"
   ]
  },
  {
   "cell_type": "markdown",
   "metadata": {},
   "source": [
    "We have 3 extra years of GDP data, so let's trim those off so the scatterplot has equal length arrays to compare (this is actually required by scatterplot)"
   ]
  },
  {
   "cell_type": "code",
   "execution_count": 62,
   "metadata": {},
   "outputs": [
    {
     "name": "stdout",
     "output_type": "stream",
     "text": [
      "52\n",
      "52\n"
     ]
    }
   ],
   "source": [
    "# gdp_stage_trunc = gdp_stage[gdp_stage['Year'] < 2012]\n",
    "# print(len(gdp_stage_trunc))\n",
    "# print(len(stage))\n",
    "\n",
    "gdp_stage_trunc = gdp_stage[gdp_stage['Year']<2012]\n",
    "\n",
    "print(len(gdp_stage_trunc))\n",
    "print(len(stage))"
   ]
  },
  {
   "cell_type": "code",
   "execution_count": 63,
   "metadata": {},
   "outputs": [
    {
     "data": {
      "text/plain": [
       "<matplotlib.collections.PathCollection at 0x110d926a0>"
      ]
     },
     "execution_count": 63,
     "metadata": {},
     "output_type": "execute_result"
    },
    {
     "data": {
      "image/png": "[encoded data removed]",
      "text/plain": [
       "<matplotlib.figure.Figure at 0x111ad0940>"
      ]
     },
     "metadata": {},
     "output_type": "display_data"
    }
   ],
   "source": [
    "# %matplotlib inline\n",
    "# import matplotlib.pyplot as plt\n",
    "\n",
    "# fig, axis = plt.subplots()\n",
    "# # Grid lines, Xticks, Xlabel, Ylabel\n",
    "\n",
    "# axis.yaxis.grid(True)\n",
    "# axis.set_title('CO2 Emissions vs. GDP \\(per capita\\)',fontsize=10)\n",
    "# axis.set_xlabel(gdp_stage_trunc['IndicatorName'].iloc[0],fontsize=10)\n",
    "# axis.set_ylabel(stage['IndicatorName'].iloc[0],fontsize=10)\n",
    "\n",
    "# X = gdp_stage_trunc['Value']\n",
    "# Y = stage['Value']\n",
    "\n",
    "# axis.scatter(X, Y)\n",
    "# plt.show()\n",
    "\n",
    "fig, axis = plt.subplots()\n",
    "\n",
    "axis.yaxis.grid(True)\n",
    "axis.set_title('CO2 emissions vs GDP \\(per capita\\)', fontsize = 10)\n",
    "axis.set_xlabel(gdp_stage_trunc['IndicatorName'].iloc[0],fontsize=10)\n",
    "axis.set_ylabel(stage['IndicatorName'].iloc[0],fontsize=10)\n",
    "\n",
    "X = gdp_stage_trunc['Value']\n",
    "Y = stage['Value']\n",
    "\n",
    "axis.scatter(X, Y)\n"
   ]
  },
  {
   "cell_type": "markdown",
   "metadata": {},
   "source": [
    "This doesn't look like a strong relationship.  We can test this by looking at correlation."
   ]
  },
  {
   "cell_type": "code",
   "execution_count": 64,
   "metadata": {},
   "outputs": [
    {
     "data": {
      "text/plain": [
       "array([[ 1.        ,  0.07676005],\n",
       "       [ 0.07676005,  1.        ]])"
      ]
     },
     "execution_count": 64,
     "metadata": {},
     "output_type": "execute_result"
    }
   ],
   "source": [
    "# np.corrcoef(gdp_stage_trunc['Value'],stage['Value'])\n",
    "\n",
    "np.corrcoef(gdp_stage_trunc['Value'],stage['Value'])"
   ]
  },
  {
   "cell_type": "markdown",
   "metadata": {},
   "source": [
    "A correlation of 0.07 is pretty weak, but you'll learn more about correlation in the next course.\n",
    "\n",
    "You could continue to explore this to see if other countries have a closer relationship between CO2 emissions and GDP.  Perhaps it is stronger for developing countries?"
   ]
  },
  {
   "cell_type": "markdown",
   "metadata": {
    "collapsed": true
   },
   "source": [
    "## Want more ? \n",
    "\n",
    "### Matplotlib Examples Library"
   ]
  },
  {
   "cell_type": "markdown",
   "metadata": {},
   "source": [
    "http://matplotlib.org/examples/index.html"
   ]
  },
  {
   "cell_type": "code",
   "execution_count": null,
   "metadata": {
    "collapsed": true
   },
   "outputs": [],
   "source": [
    "%%javascript\n",
    "IPython.OutputArea.auto_scroll_threshold = 9999;"
   ]
  }
 ],
 "metadata": {
  "kernelspec": {
   "display_name": "Python 3",
   "language": "python",
   "name": "python3"
  },
  "language_info": {
   "codemirror_mode": {
    "name": "ipython",
    "version": 3
   },
   "file_extension": ".py",
   "mimetype": "text/x-python",
   "name": "python",
   "nbconvert_exporter": "python",
   "pygments_lexer": "ipython3",
   "version": "3.6.1"
  }
 },
 "nbformat": 4,
 "nbformat_minor": 2
}
