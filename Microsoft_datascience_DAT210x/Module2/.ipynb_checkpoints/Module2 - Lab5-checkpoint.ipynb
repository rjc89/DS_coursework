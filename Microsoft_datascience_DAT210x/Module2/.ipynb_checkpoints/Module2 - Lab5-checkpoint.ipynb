{
 "cells": [
  {
   "cell_type": "markdown",
   "metadata": {},
   "source": [
    "# DAT210x - Programming with Python for DS"
   ]
  },
  {
   "cell_type": "markdown",
   "metadata": {},
   "source": [
    "## Module2 - Lab5"
   ]
  },
  {
   "cell_type": "markdown",
   "metadata": {
    "collapsed": true
   },
   "source": [
    "Import and alias Pandas:"
   ]
  },
  {
   "cell_type": "code",
   "execution_count": 1,
   "metadata": {
    "collapsed": true
   },
   "outputs": [],
   "source": [
    "# .. your code here ..\n",
    "import pandas as pd"
   ]
  },
  {
   "cell_type": "markdown",
   "metadata": {},
   "source": [
    "As per usual, load up the specified dataset, setting appropriate header labels."
   ]
  },
  {
   "cell_type": "code",
   "execution_count": 19,
   "metadata": {},
   "outputs": [
    {
     "data": {
      "text/html": [
       "<div>\n",
       "<style>\n",
       "    .dataframe thead tr:only-child th {\n",
       "        text-align: right;\n",
       "    }\n",
       "\n",
       "    .dataframe thead th {\n",
       "        text-align: left;\n",
       "    }\n",
       "\n",
       "    .dataframe tbody tr th {\n",
       "        vertical-align: top;\n",
       "    }\n",
       "</style>\n",
       "<table border=\"1\" class=\"dataframe\">\n",
       "  <thead>\n",
       "    <tr style=\"text-align: right;\">\n",
       "      <th></th>\n",
       "      <th>education</th>\n",
       "      <th>age</th>\n",
       "      <th>capital-gain</th>\n",
       "      <th>race</th>\n",
       "      <th>capital-loss</th>\n",
       "      <th>hours-per-week</th>\n",
       "      <th>sex</th>\n",
       "      <th>classification</th>\n",
       "    </tr>\n",
       "  </thead>\n",
       "  <tbody>\n",
       "    <tr>\n",
       "      <th>0</th>\n",
       "      <td>Bachelors</td>\n",
       "      <td>39</td>\n",
       "      <td>2174.0</td>\n",
       "      <td>White</td>\n",
       "      <td>0</td>\n",
       "      <td>40</td>\n",
       "      <td>Male</td>\n",
       "      <td>&lt;=50K</td>\n",
       "    </tr>\n",
       "    <tr>\n",
       "      <th>1</th>\n",
       "      <td>Bachelors</td>\n",
       "      <td>50</td>\n",
       "      <td>NaN</td>\n",
       "      <td>White</td>\n",
       "      <td>0</td>\n",
       "      <td>13</td>\n",
       "      <td>Male</td>\n",
       "      <td>&lt;=50K</td>\n",
       "    </tr>\n",
       "    <tr>\n",
       "      <th>2</th>\n",
       "      <td>HS-grad</td>\n",
       "      <td>38</td>\n",
       "      <td>NaN</td>\n",
       "      <td>White</td>\n",
       "      <td>0</td>\n",
       "      <td>40</td>\n",
       "      <td>Male</td>\n",
       "      <td>&lt;=50K</td>\n",
       "    </tr>\n",
       "    <tr>\n",
       "      <th>3</th>\n",
       "      <td>11th</td>\n",
       "      <td>53</td>\n",
       "      <td>NaN</td>\n",
       "      <td>Black</td>\n",
       "      <td>0</td>\n",
       "      <td>40</td>\n",
       "      <td>Male</td>\n",
       "      <td>&lt;=50K</td>\n",
       "    </tr>\n",
       "    <tr>\n",
       "      <th>4</th>\n",
       "      <td>Bachelors</td>\n",
       "      <td>28</td>\n",
       "      <td>0.0</td>\n",
       "      <td>Black</td>\n",
       "      <td>0</td>\n",
       "      <td>40</td>\n",
       "      <td>Female</td>\n",
       "      <td>&lt;=50K</td>\n",
       "    </tr>\n",
       "  </tbody>\n",
       "</table>\n",
       "</div>"
      ],
      "text/plain": [
       "   education  age  capital-gain   race  capital-loss  hours-per-week     sex  \\\n",
       "0  Bachelors   39        2174.0  White             0              40    Male   \n",
       "1  Bachelors   50           NaN  White             0              13    Male   \n",
       "2    HS-grad   38           NaN  White             0              40    Male   \n",
       "3       11th   53           NaN  Black             0              40    Male   \n",
       "4  Bachelors   28           0.0  Black             0              40  Female   \n",
       "\n",
       "  classification  \n",
       "0          <=50K  \n",
       "1          <=50K  \n",
       "2          <=50K  \n",
       "3          <=50K  \n",
       "4          <=50K  "
      ]
     },
     "execution_count": 19,
     "metadata": {},
     "output_type": "execute_result"
    }
   ],
   "source": [
    "# .. your code here ..\n",
    "columns = ['education', 'age', 'capital-gain', 'race', 'capital-loss', 'hours-per-week', 'sex', 'classification']\n",
    "\n",
    "df = pd.read_csv('/Users/constar/Documents/GitHub/Online_courses/DAT210x-master/Module2/Datasets/census.data', header=None, names= columns, na_values= ['?'])\n",
    "\n",
    "df.head()"
   ]
  },
  {
   "cell_type": "markdown",
   "metadata": {},
   "source": [
    "Excellent.\n",
    "\n",
    "Now, use basic pandas commands to look through the dataset. Get a feel for it before proceeding!\n",
    "\n",
    "Do the data-types of each column reflect the values you see when you look through the data using a text editor / spread sheet program? If you see `object` where you expect to see `int32` or `float64`, that is a good indicator that there might be a string or missing value or erroneous value in the column."
   ]
  },
  {
   "cell_type": "code",
   "execution_count": 20,
   "metadata": {},
   "outputs": [
    {
     "data": {
      "text/plain": [
       "education          object\n",
       "age                 int64\n",
       "capital-gain      float64\n",
       "race               object\n",
       "capital-loss        int64\n",
       "hours-per-week      int64\n",
       "sex                object\n",
       "classification     object\n",
       "dtype: object"
      ]
     },
     "execution_count": 20,
     "metadata": {},
     "output_type": "execute_result"
    }
   ],
   "source": [
    "# .. your code here ..\n",
    "df.dtypes"
   ]
  },
  {
   "cell_type": "code",
   "execution_count": 21,
   "metadata": {},
   "outputs": [
    {
     "data": {
      "text/plain": [
       "(29536, 8)"
      ]
     },
     "execution_count": 21,
     "metadata": {},
     "output_type": "execute_result"
    }
   ],
   "source": [
    "df.shape"
   ]
  },
  {
   "cell_type": "code",
   "execution_count": 31,
   "metadata": {},
   "outputs": [
    {
     "data": {
      "text/plain": [
       "array([  2174.,     nan,      0.,  14084.,   5178.,   5013.,   2407.,\n",
       "        14344.,  15024.,   7688.,  34095.,   4064.,   4386.,   7298.,\n",
       "         1409.,   3674.,   1055.,   3464.,   2050.,   2176.,    594.,\n",
       "         6849.,   4101.,   1111.,   3411.,   2597.,  25236.,   4650.,\n",
       "         9386.,   2463.,   3103.,  10605.,   2964.,   3325.,   2580.,\n",
       "         3471.,   4865.,   6514.,   1471.,   2329.,  99999.,  20051.,\n",
       "         2105.,   2885.,  25124.,  10520.,   2202.,   2961.,  27828.,\n",
       "         6767.,   8614.,   2228.,   1506.,  13550.,   2635.,   5556.,\n",
       "         4787.,   3781.,   3137.,   3818.,   3942.,    914.,    401.,\n",
       "         2829.,   2977.,   4934.,   2062.,  15020.,   1424.,   3273.,\n",
       "        22040.,   4416.,  10566.,    991.,   4931.,   1086.,   7430.,\n",
       "         6497.,    114.,   7896.,   2346.,   3432.,   2907.,   1151.,\n",
       "         2414.,   2290.,   3418.,  15831.,  41310.,   4508.,   5455.,\n",
       "         2538.,   3456.,   3908.,   1848.,   3887.,   5721.,   9562.,\n",
       "         6418.,   1455.,   2036.,   1831.,  11678.,   2936.,   2993.,\n",
       "         7443.,   6360.,   2354.,   1797.,   1173.,   4687.,   2009.,\n",
       "         6097.,   2653.,  18481.,   7978.,   2387.,   6723.,   5060.])"
      ]
     },
     "execution_count": 31,
     "metadata": {},
     "output_type": "execute_result"
    }
   ],
   "source": [
    "df['capital-gain'].unique()"
   ]
  },
  {
   "cell_type": "code",
   "execution_count": 23,
   "metadata": {},
   "outputs": [
    {
     "data": {
      "text/plain": [
       "array([   0, 2042, 1408, 1573, 1902, 1887, 1719, 1762, 2179, 1816, 1980,\n",
       "       1977, 1876, 1340, 2206, 1741, 1485, 1564, 2339, 2415, 1721, 1380,\n",
       "       2051, 2352, 1672,  653, 2392, 1504, 2001, 1590, 1651, 1628, 1848,\n",
       "       1740, 2002, 1579, 2258, 1669, 1602,  419, 2547, 2174, 2205, 1138,\n",
       "       2238,  625, 2377,  213, 1539,  880, 1092, 1594, 3004, 2231, 1844,\n",
       "        810, 2559, 2057, 1974,  974, 1825, 1735, 1258, 2129, 2603, 2282,\n",
       "        323, 4356, 2444, 2246, 2149, 1617, 1648, 2824, 2489, 3770, 1755,\n",
       "       3683, 1668, 1726, 2267, 2457,  155, 3900, 2201, 1944, 2467, 2163,\n",
       "       2754, 2472, 1411])"
      ]
     },
     "execution_count": 23,
     "metadata": {},
     "output_type": "execute_result"
    }
   ],
   "source": [
    "df['capital-loss'].unique()"
   ]
  },
  {
   "cell_type": "code",
   "execution_count": 24,
   "metadata": {},
   "outputs": [
    {
     "data": {
      "text/plain": [
       "array(['Bachelors', 'HS-grad', '11th', 'Masters', '9th', 'Some-college',\n",
       "       '7th-8th', 'Doctorate', '5th-6th', '10th', '1st-4th', 'Preschool',\n",
       "       '12th'], dtype=object)"
      ]
     },
     "execution_count": 24,
     "metadata": {},
     "output_type": "execute_result"
    }
   ],
   "source": [
    "df['education'].unique()"
   ]
  },
  {
   "cell_type": "code",
   "execution_count": 25,
   "metadata": {},
   "outputs": [
    {
     "data": {
      "text/plain": [
       "array(['<=50K', '>50K'], dtype=object)"
      ]
     },
     "execution_count": 25,
     "metadata": {},
     "output_type": "execute_result"
    }
   ],
   "source": [
    "df['classification'].unique()"
   ]
  },
  {
   "cell_type": "markdown",
   "metadata": {},
   "source": [
    "Try use `your_data_frame['your_column'].unique()` or equally, `your_data_frame.your_column.unique()` to see the unique values of each column and identify the rogue values.\n",
    "\n",
    "If you find any value that should be properly encoded to NaNs, you can convert them either using the `na_values` parameter when loading the dataframe. Or alternatively, use one of the other methods discussed in the reading."
   ]
  },
  {
   "cell_type": "code",
   "execution_count": null,
   "metadata": {
    "collapsed": true
   },
   "outputs": [],
   "source": [
    "# .. your code here ..\n"
   ]
  },
  {
   "cell_type": "markdown",
   "metadata": {},
   "source": [
    "Look through your data and identify any potential categorical features. Ensure you properly encode any ordinal and nominal types using the methods discussed in the chapter.\n",
    "\n",
    "Be careful! Some features can be represented as either categorical or continuous (numerical). If you ever get confused, think to yourself what makes more sense generally---to represent such features with a continuous numeric type... or a series of categories?"
   ]
  },
  {
   "cell_type": "code",
   "execution_count": 26,
   "metadata": {},
   "outputs": [
    {
     "data": {
      "text/html": [
       "<div>\n",
       "<style>\n",
       "    .dataframe thead tr:only-child th {\n",
       "        text-align: right;\n",
       "    }\n",
       "\n",
       "    .dataframe thead th {\n",
       "        text-align: left;\n",
       "    }\n",
       "\n",
       "    .dataframe tbody tr th {\n",
       "        vertical-align: top;\n",
       "    }\n",
       "</style>\n",
       "<table border=\"1\" class=\"dataframe\">\n",
       "  <thead>\n",
       "    <tr style=\"text-align: right;\">\n",
       "      <th></th>\n",
       "      <th>education</th>\n",
       "      <th>age</th>\n",
       "      <th>capital-gain</th>\n",
       "      <th>race</th>\n",
       "      <th>capital-loss</th>\n",
       "      <th>hours-per-week</th>\n",
       "      <th>sex</th>\n",
       "      <th>classification</th>\n",
       "    </tr>\n",
       "  </thead>\n",
       "  <tbody>\n",
       "    <tr>\n",
       "      <th>0</th>\n",
       "      <td>Bachelors</td>\n",
       "      <td>39</td>\n",
       "      <td>2174.0</td>\n",
       "      <td>White</td>\n",
       "      <td>0</td>\n",
       "      <td>40</td>\n",
       "      <td>Male</td>\n",
       "      <td>&lt;=50K</td>\n",
       "    </tr>\n",
       "    <tr>\n",
       "      <th>1</th>\n",
       "      <td>Bachelors</td>\n",
       "      <td>50</td>\n",
       "      <td>NaN</td>\n",
       "      <td>White</td>\n",
       "      <td>0</td>\n",
       "      <td>13</td>\n",
       "      <td>Male</td>\n",
       "      <td>&lt;=50K</td>\n",
       "    </tr>\n",
       "    <tr>\n",
       "      <th>2</th>\n",
       "      <td>HS-grad</td>\n",
       "      <td>38</td>\n",
       "      <td>NaN</td>\n",
       "      <td>White</td>\n",
       "      <td>0</td>\n",
       "      <td>40</td>\n",
       "      <td>Male</td>\n",
       "      <td>&lt;=50K</td>\n",
       "    </tr>\n",
       "    <tr>\n",
       "      <th>3</th>\n",
       "      <td>11th</td>\n",
       "      <td>53</td>\n",
       "      <td>NaN</td>\n",
       "      <td>Black</td>\n",
       "      <td>0</td>\n",
       "      <td>40</td>\n",
       "      <td>Male</td>\n",
       "      <td>&lt;=50K</td>\n",
       "    </tr>\n",
       "    <tr>\n",
       "      <th>4</th>\n",
       "      <td>Bachelors</td>\n",
       "      <td>28</td>\n",
       "      <td>0.0</td>\n",
       "      <td>Black</td>\n",
       "      <td>0</td>\n",
       "      <td>40</td>\n",
       "      <td>Female</td>\n",
       "      <td>&lt;=50K</td>\n",
       "    </tr>\n",
       "  </tbody>\n",
       "</table>\n",
       "</div>"
      ],
      "text/plain": [
       "   education  age  capital-gain   race  capital-loss  hours-per-week     sex  \\\n",
       "0  Bachelors   39        2174.0  White             0              40    Male   \n",
       "1  Bachelors   50           NaN  White             0              13    Male   \n",
       "2    HS-grad   38           NaN  White             0              40    Male   \n",
       "3       11th   53           NaN  Black             0              40    Male   \n",
       "4  Bachelors   28           0.0  Black             0              40  Female   \n",
       "\n",
       "  classification  \n",
       "0          <=50K  \n",
       "1          <=50K  \n",
       "2          <=50K  \n",
       "3          <=50K  \n",
       "4          <=50K  "
      ]
     },
     "execution_count": 26,
     "metadata": {},
     "output_type": "execute_result"
    }
   ],
   "source": [
    "# .. your code here ..\n",
    "\n",
    "df.head()"
   ]
  },
  {
   "cell_type": "markdown",
   "metadata": {},
   "source": [
    "Lastly, print out your dataframe!"
   ]
  },
  {
   "cell_type": "code",
   "execution_count": 32,
   "metadata": {},
   "outputs": [
    {
     "name": "stdout",
     "output_type": "stream",
     "text": [
      "          education  age  capital-gain                race  capital-loss  \\\n",
      "0         Bachelors   39        2174.0               White             0   \n",
      "1         Bachelors   50           NaN               White             0   \n",
      "2           HS-grad   38           NaN               White             0   \n",
      "3              11th   53           NaN               Black             0   \n",
      "4         Bachelors   28           0.0               Black             0   \n",
      "5           Masters   37           0.0               White             0   \n",
      "6               9th   49           0.0               Black             0   \n",
      "7           HS-grad   52           0.0               White             0   \n",
      "8           Masters   31       14084.0               White             0   \n",
      "9         Bachelors   42        5178.0               White             0   \n",
      "10     Some-college   37           0.0               Black             0   \n",
      "11        Bachelors   30           0.0  Asian-Pac-Islander             0   \n",
      "12        Bachelors   23           0.0               White             0   \n",
      "13          7th-8th   34           0.0  Amer-Indian-Eskimo             0   \n",
      "14          HS-grad   25           0.0               White             0   \n",
      "15          HS-grad   32           0.0               White             0   \n",
      "16             11th   38           0.0               White             0   \n",
      "17          Masters   43           0.0               White             0   \n",
      "18        Doctorate   40           0.0               White             0   \n",
      "19          HS-grad   54           0.0               Black             0   \n",
      "20              9th   35           0.0               Black             0   \n",
      "21             11th   43           0.0               White          2042   \n",
      "22          HS-grad   59           0.0               White             0   \n",
      "23        Bachelors   56           0.0               White             0   \n",
      "24          HS-grad   19           0.0               White             0   \n",
      "25     Some-college   54           0.0  Asian-Pac-Islander             0   \n",
      "26          HS-grad   39           0.0               White             0   \n",
      "27          HS-grad   49           0.0               White             0   \n",
      "28     Some-college   20           0.0               Black             0   \n",
      "29        Bachelors   45           0.0               White          1408   \n",
      "...             ...  ...           ...                 ...           ...   \n",
      "29506       HS-grad   30           0.0               White             0   \n",
      "29507          10th   32           0.0               White             0   \n",
      "29508  Some-college   22           0.0               White             0   \n",
      "29509       HS-grad   31           0.0               White             0   \n",
      "29510       HS-grad   29           0.0               White             0   \n",
      "29511     Bachelors   35           0.0               White             0   \n",
      "29512     Bachelors   30           0.0  Asian-Pac-Islander             0   \n",
      "29513     Doctorate   34           0.0               White             0   \n",
      "29514     Bachelors   54           0.0  Asian-Pac-Islander             0   \n",
      "29515  Some-college   37           0.0               White             0   \n",
      "29516          12th   22           0.0               Black             0   \n",
      "29517     Bachelors   34           0.0               White             0   \n",
      "29518       HS-grad   30           0.0               Black             0   \n",
      "29519     Bachelors   38       15020.0               Black             0   \n",
      "29520     Doctorate   71           0.0               White             0   \n",
      "29521       HS-grad   45           0.0               White             0   \n",
      "29522       HS-grad   41           0.0               Black             0   \n",
      "29523       HS-grad   72           0.0               White             0   \n",
      "29524       Masters   31           0.0               Other             0   \n",
      "29525       HS-grad   43           0.0               White             0   \n",
      "29526  Some-college   43           0.0               White             0   \n",
      "29527  Some-college   43           0.0               White             0   \n",
      "29528          10th   32           0.0  Amer-Indian-Eskimo             0   \n",
      "29529       Masters   32           0.0  Asian-Pac-Islander             0   \n",
      "29530       Masters   53           0.0               White             0   \n",
      "29531  Some-college   22           0.0               White             0   \n",
      "29532       HS-grad   40           0.0               White             0   \n",
      "29533       HS-grad   58           0.0               White             0   \n",
      "29534       HS-grad   22           0.0               White             0   \n",
      "29535       HS-grad   52       15024.0               White             0   \n",
      "\n",
      "       hours-per-week     sex classification  \n",
      "0                  40    Male          <=50K  \n",
      "1                  13    Male          <=50K  \n",
      "2                  40    Male          <=50K  \n",
      "3                  40    Male          <=50K  \n",
      "4                  40  Female          <=50K  \n",
      "5                  40  Female          <=50K  \n",
      "6                  16  Female          <=50K  \n",
      "7                  45    Male           >50K  \n",
      "8                  50  Female           >50K  \n",
      "9                  40    Male           >50K  \n",
      "10                 80    Male           >50K  \n",
      "11                 40    Male           >50K  \n",
      "12                 30  Female          <=50K  \n",
      "13                 45    Male          <=50K  \n",
      "14                 35    Male          <=50K  \n",
      "15                 40    Male          <=50K  \n",
      "16                 50    Male          <=50K  \n",
      "17                 45  Female           >50K  \n",
      "18                 60    Male           >50K  \n",
      "19                 20  Female          <=50K  \n",
      "20                 40    Male          <=50K  \n",
      "21                 40    Male          <=50K  \n",
      "22                 40  Female          <=50K  \n",
      "23                 40    Male           >50K  \n",
      "24                 40    Male          <=50K  \n",
      "25                 60    Male           >50K  \n",
      "26                 80    Male          <=50K  \n",
      "27                 40    Male          <=50K  \n",
      "28                 44    Male          <=50K  \n",
      "29                 40    Male          <=50K  \n",
      "...               ...     ...            ...  \n",
      "29506              55    Male          <=50K  \n",
      "29507              40    Male          <=50K  \n",
      "29508              40    Male          <=50K  \n",
      "29509              40  Female          <=50K  \n",
      "29510              35  Female          <=50K  \n",
      "29511              55  Female           >50K  \n",
      "29512              99  Female          <=50K  \n",
      "29513              60    Male           >50K  \n",
      "29514              50    Male           >50K  \n",
      "29515              39  Female          <=50K  \n",
      "29516              35    Male          <=50K  \n",
      "29517              55  Female           >50K  \n",
      "29518              46    Male          <=50K  \n",
      "29519              45  Female           >50K  \n",
      "29520              10    Male           >50K  \n",
      "29521              40  Female          <=50K  \n",
      "29522              32  Female          <=50K  \n",
      "29523              25    Male          <=50K  \n",
      "29524              30  Female          <=50K  \n",
      "29525              40    Male          <=50K  \n",
      "29526              40  Female          <=50K  \n",
      "29527              50    Male          <=50K  \n",
      "29528              40    Male          <=50K  \n",
      "29529              11    Male          <=50K  \n",
      "29530              40    Male           >50K  \n",
      "29531              40    Male          <=50K  \n",
      "29532              40    Male           >50K  \n",
      "29533              40  Female          <=50K  \n",
      "29534              20    Male          <=50K  \n",
      "29535              40  Female           >50K  \n",
      "\n",
      "[29536 rows x 8 columns]\n"
     ]
    }
   ],
   "source": [
    "# .. your code here ..\n",
    "print(df)"
   ]
  },
  {
   "cell_type": "code",
   "execution_count": null,
   "metadata": {
    "collapsed": true
   },
   "outputs": [],
   "source": [
    "#The dataframe contains two ordinal features 'education' and classification\n",
    "\n",
    "#the df contains two nominal features 'race' and 'sex'"
   ]
  }
 ],
 "metadata": {
  "anaconda-cloud": {},
  "kernelspec": {
   "display_name": "Python 3",
   "language": "python",
   "name": "python3"
  },
  "language_info": {
   "codemirror_mode": {
    "name": "ipython",
    "version": 3
   },
   "file_extension": ".py",
   "mimetype": "text/x-python",
   "name": "python",
   "nbconvert_exporter": "python",
   "pygments_lexer": "ipython3",
   "version": "3.6.1"
  },
  "toc": {
   "colors": {
    "hover_highlight": "#DAA520",
    "running_highlight": "#FF0000",
    "selected_highlight": "#FFD700"
   },
   "moveMenuLeft": true,
   "nav_menu": {
    "height": "58px",
    "width": "251px"
   },
   "navigate_menu": true,
   "number_sections": true,
   "sideBar": true,
   "threshold": 4,
   "toc_cell": false,
   "toc_section_display": "block",
   "toc_window_display": false,
   "widenNotebook": false
  }
 },
 "nbformat": 4,
 "nbformat_minor": 2
}
