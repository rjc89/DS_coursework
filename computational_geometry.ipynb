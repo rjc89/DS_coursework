{
  "nbformat": 4,
  "nbformat_minor": 0,
  "metadata": {
    "colab": {
      "name": "computational_geometry.ipynb",
      "provenance": [],
      "collapsed_sections": [],
      "toc_visible": true,
      "authorship_tag": "ABX9TyODVKT8lQjE4Umpx+fYPeYx",
      "include_colab_link": true
    },
    "kernelspec": {
      "name": "python3",
      "display_name": "Python 3"
    }
  },
  "cells": [
    {
      "cell_type": "markdown",
      "metadata": {
        "id": "view-in-github",
        "colab_type": "text"
      },
      "source": [
        "<a href=\"https://colab.research.google.com/github/rjc89/DS_coursework/blob/master/computational_geometry.ipynb\" target=\"_parent\"><img src=\"https://colab.research.google.com/assets/colab-badge.svg\" alt=\"Open In Colab\"/></a>"
      ]
    },
    {
      "cell_type": "code",
      "metadata": {
        "id": "KjG0Mpw5Yzld",
        "colab_type": "code",
        "outputId": "8420b7cf-0a58-4f7d-b3eb-62625150f2b5",
        "colab": {
          "base_uri": "https://localhost:8080/",
          "height": 121
        }
      },
      "source": [
        "from google.colab import drive\n",
        "drive.mount('/content/drive')"
      ],
      "execution_count": 0,
      "outputs": [
        {
          "output_type": "stream",
          "text": [
            "Go to this URL in a browser: https://accounts.google.com/o/oauth2/auth?client_id=947318989803-6bn6qk8qdgf4n4g3pfee6491hc0brc4i.apps.googleusercontent.com&redirect_uri=urn%3aietf%3awg%3aoauth%3a2.0%3aoob&response_type=code&scope=email%20https%3a%2f%2fwww.googleapis.com%2fauth%2fdocs.test%20https%3a%2f%2fwww.googleapis.com%2fauth%2fdrive%20https%3a%2f%2fwww.googleapis.com%2fauth%2fdrive.photos.readonly%20https%3a%2f%2fwww.googleapis.com%2fauth%2fpeopleapi.readonly\n",
            "\n",
            "Enter your authorization code:\n",
            "··········\n",
            "Mounted at /content/drive\n"
          ],
          "name": "stdout"
        }
      ]
    },
    {
      "cell_type": "code",
      "metadata": {
        "id": "2Emawac0aNv2",
        "colab_type": "code",
        "colab": {}
      },
      "source": [
        "#!/usr/bin/env python3      to tell the interpreter to use python 3\n",
        "from PIL import Image, ImageDraw\n",
        "from matplotlib.pyplot import imshow\n",
        "import numpy as np\n",
        "import time\n",
        "\n",
        "%matplotlib inline"
      ],
      "execution_count": 0,
      "outputs": []
    },
    {
      "cell_type": "code",
      "metadata": {
        "id": "U23xHcE6c9yI",
        "colab_type": "code",
        "colab": {}
      },
      "source": [
        "#  The task is to output the number of none overlapping rectangle partitions\n",
        "with open(filepath) as fobj:\n",
        "    lines = fobj.read()"
      ],
      "execution_count": 0,
      "outputs": []
    },
    {
      "cell_type": "code",
      "metadata": {
        "id": "_JmsIMqEkjD4",
        "colab_type": "code",
        "outputId": "7a52b053-d1d2-4c66-cadb-ebae506d7b45",
        "colab": {
          "base_uri": "https://localhost:8080/",
          "height": 286
        }
      },
      "source": [
        "print(lines)\n",
        "print(type(lines))"
      ],
      "execution_count": 0,
      "outputs": [
        {
          "output_type": "stream",
          "text": [
            "14\n",
            "1.0 1.0 10.0 6.0\n",
            "1.5 1.5 6.0 5.0\n",
            "2.0 2.0 3.0 3.0\n",
            "2.0 3.5 3.0 4.5\n",
            "3.5 2.0 5.5 4.5\n",
            "4.0 3.5 5.0 4.0\n",
            "4.0 2.5 5.0 3.0\n",
            "7.0 3.0 9.5 5.5\n",
            "7.5 4.0 8.0 5.0\n",
            "8.5 3.5 9.0 4.5\n",
            "3.0 7.0 8.0 10.0\n",
            "5.0 7.5 7.5 9.5\n",
            "5.5 8.0 6.0 9.0\n",
            "6.5 8.0 7.0 9.0\n",
            "<class 'str'>\n"
          ],
          "name": "stdout"
        }
      ]
    },
    {
      "cell_type": "code",
      "metadata": {
        "id": "yzWVUyXpeMG2",
        "colab_type": "code",
        "outputId": "521baa0c-37b8-419a-fc31-58fc7ac89f5b",
        "colab": {
          "base_uri": "https://localhost:8080/",
          "height": 269
        }
      },
      "source": [
        "with open(filepath, \"r\") as a_file:\n",
        "  for line in a_file:\n",
        "    stripped_line = line.strip()\n",
        "    print(stripped_line)"
      ],
      "execution_count": 0,
      "outputs": [
        {
          "output_type": "stream",
          "text": [
            "14\n",
            "1.0 1.0 10.0 6.0\n",
            "1.5 1.5 6.0 5.0\n",
            "2.0 2.0 3.0 3.0\n",
            "2.0 3.5 3.0 4.5\n",
            "3.5 2.0 5.5 4.5\n",
            "4.0 3.5 5.0 4.0\n",
            "4.0 2.5 5.0 3.0\n",
            "7.0 3.0 9.5 5.5\n",
            "7.5 4.0 8.0 5.0\n",
            "8.5 3.5 9.0 4.5\n",
            "3.0 7.0 8.0 10.0\n",
            "5.0 7.5 7.5 9.5\n",
            "5.5 8.0 6.0 9.0\n",
            "6.5 8.0 7.0 9.0\n"
          ],
          "name": "stdout"
        }
      ]
    },
    {
      "cell_type": "code",
      "metadata": {
        "id": "P9jD6438S_PE",
        "colab_type": "code",
        "outputId": "a6806d21-b169-4620-8a0e-36ee1f368774",
        "colab": {
          "base_uri": "https://localhost:8080/",
          "height": 252
        }
      },
      "source": [
        "import io # remember\n",
        "with open(filepath, \"r\") as f:\n",
        "    n = int(f.readline())\n",
        "    boxes = []\n",
        "    for line in f:\n",
        "        boxes.append(line.split())\n",
        "boxes = [float(j) for i in boxes for j in i]\n",
        "boxes = np.reshape(boxes,(n,4))\n",
        "boxes"
      ],
      "execution_count": 0,
      "outputs": [
        {
          "output_type": "execute_result",
          "data": {
            "text/plain": [
              "array([[ 1. ,  1. , 10. ,  6. ],\n",
              "       [ 1.5,  1.5,  6. ,  5. ],\n",
              "       [ 2. ,  2. ,  3. ,  3. ],\n",
              "       [ 2. ,  3.5,  3. ,  4.5],\n",
              "       [ 3.5,  2. ,  5.5,  4.5],\n",
              "       [ 4. ,  3.5,  5. ,  4. ],\n",
              "       [ 4. ,  2.5,  5. ,  3. ],\n",
              "       [ 7. ,  3. ,  9.5,  5.5],\n",
              "       [ 7.5,  4. ,  8. ,  5. ],\n",
              "       [ 8.5,  3.5,  9. ,  4.5],\n",
              "       [ 3. ,  7. ,  8. , 10. ],\n",
              "       [ 5. ,  7.5,  7.5,  9.5],\n",
              "       [ 5.5,  8. ,  6. ,  9. ],\n",
              "       [ 6.5,  8. ,  7. ,  9. ]])"
            ]
          },
          "metadata": {
            "tags": []
          },
          "execution_count": 7
        }
      ]
    },
    {
      "cell_type": "code",
      "metadata": {
        "id": "H-7M7L38lB7M",
        "colab_type": "code",
        "outputId": "7dbea71d-4bb8-47a5-b7e9-ac954fb2101d",
        "colab": {
          "base_uri": "https://localhost:8080/",
          "height": 269
        }
      },
      "source": [
        "def countLand(input):\n",
        "  sorted_input = np.sort(input)\n",
        "  print(sorted_input)\n",
        "  a_current = sorted_input[0][0]\n",
        "  b_current = sorted_input[0][1]\n",
        "  c_current = sorted_input[0][2]\n",
        "  d_current = sorted_input[0][3]\n",
        "  land_count = 0\n",
        "  for i in sorted_input:\n",
        "    if i[0] == sorted_input[0][0]:\n",
        "      continue\n",
        "    elif i[0] > a_current and i[1] > b_current and i[2] < c_current and i[3] < d_current:\n",
        "      a_current = i[0]\n",
        "      b_current = i[1]\n",
        "      c_current = i[2]\n",
        "      d_current = i[3]\n",
        "      land_count += 1\n",
        "\n",
        "  return land_count\n",
        "\n",
        "countLand(boxes)"
      ],
      "execution_count": 0,
      "outputs": [
        {
          "output_type": "stream",
          "text": [
            "[[ 1.   1.   6.  10. ]\n",
            " [ 1.5  1.5  5.   6. ]\n",
            " [ 2.   2.   3.   3. ]\n",
            " [ 2.   3.   3.5  4.5]\n",
            " [ 2.   3.5  4.5  5.5]\n",
            " [ 3.5  4.   4.   5. ]\n",
            " [ 2.5  3.   4.   5. ]\n",
            " [ 3.   5.5  7.   9.5]\n",
            " [ 4.   5.   7.5  8. ]\n",
            " [ 3.5  4.5  8.5  9. ]\n",
            " [ 3.   7.   8.  10. ]\n",
            " [ 5.   7.5  7.5  9.5]\n",
            " [ 5.5  6.   8.   9. ]\n",
            " [ 6.5  7.   8.   9. ]]\n"
          ],
          "name": "stdout"
        },
        {
          "output_type": "execute_result",
          "data": {
            "text/plain": [
              "2"
            ]
          },
          "metadata": {
            "tags": []
          },
          "execution_count": 8
        }
      ]
    },
    {
      "cell_type": "markdown",
      "metadata": {
        "id": "1i_DUjTFeOZF",
        "colab_type": "text"
      },
      "source": [
        "## Algorithm\n"
      ]
    },
    {
      "cell_type": "code",
      "metadata": {
        "id": "0iKxiPx9Ljt2",
        "colab_type": "code",
        "colab": {}
      },
      "source": [
        "  # a = sorted_coordinates[0][0]\n",
        "  # b = sorted_coordinates[0][1]\n",
        "  # c = sorted_coordinates[0][2]\n",
        "  # d = sorted_coordinates[0][3]\n",
        "\n",
        "    # values, counts = np.unique(box_counts[:,1], return_counts=True)"
      ],
      "execution_count": 0,
      "outputs": []
    },
    {
      "cell_type": "code",
      "metadata": {
        "id": "f1SIYil41Y5u",
        "colab_type": "code",
        "outputId": "d586c3da-e9cb-415f-82ae-edc00e838c8a",
        "colab": {
          "base_uri": "https://localhost:8080/",
          "height": 34
        }
      },
      "source": [
        "14**14"
      ],
      "execution_count": 0,
      "outputs": [
        {
          "output_type": "execute_result",
          "data": {
            "text/plain": [
              "11112006825558016"
            ]
          },
          "metadata": {
            "tags": []
          },
          "execution_count": 10
        }
      ]
    },
    {
      "cell_type": "code",
      "metadata": {
        "id": "vU8XCl-E9lSF",
        "colab_type": "code",
        "outputId": "a4227e5d-fae8-4f83-9f79-8ffe4bba5d8e",
        "colab": {
          "base_uri": "https://localhost:8080/",
          "height": 67
        }
      },
      "source": [
        "def count_land(input):\n",
        "  area_array = []\n",
        "  # area_array = np.array(area_array)\n",
        "  for j, i in enumerate(input):\n",
        "    area_array.append([i, (i[2]-i[0])*(i[3]-i[1]), j])\n",
        "  area_array = np.array(area_array)\n",
        "  sorted_area = area_array[area_array[:,1].argsort()]\n",
        "  # sorted_coordinates = sorted_area[:,0]\n",
        "\n",
        "  x = sorted_area[0][1]\n",
        "\n",
        "  box_counts = []\n",
        "  #print(sorted_area)\n",
        "  print(sorted_area[0,:][0])\n",
        "  # def box_counts_meshgrid(a,rows,cols):\n",
        "  #       sub=a[np.meshgrid(rows,cols,indexing='ij')]\n",
        "  #       # r,c = (i[0][0] < j[0][2]).nonzero()\n",
        "  #       return print(sub) #take(rows,r),take(cols,c)\n",
        "\n",
        "  # box_counts_meshgrid(sorted_area, sorted_area[:], sorted_area[0][:])\n",
        "\n",
        "  for i in sorted_area:\n",
        "    # if i[1] > x:\n",
        "    #   x = i[1]\n",
        "    #   continue\n",
        "    # if i[1] == x:\n",
        "    #   x = i-1[1]\n",
        "    #   continue\n",
        "    for j in sorted_area:\n",
        "      if i[0][0] < j[0][2] and i[0][0] > j[0][0] and i[0][1] < j[0][3] and i[0][1] > j[0][1] and i[0][2] < j[0][2] and i[0][2] > j[0][0] and i[0][3] > j[0][1] and i[0][3] < j[0][3]:\n",
        "        box_counts.append([1, i[2]])\n",
        "      else:\n",
        "        box_counts.append([0,i[2]])\n",
        "\n",
        "  box_counts = np.array(box_counts)\n",
        "  box_counts = np.split(box_counts[:,], np.cumsum(np.unique(box_counts[:, 1], return_counts=True)[1])[:-1])\n",
        "\n",
        "  sum_list = []\n",
        "  for i in box_counts:\n",
        "    sum_list.append(np.sum(i[:,0]))\n",
        "  \n",
        "  land = 0\n",
        "  for i in sum_list:\n",
        "    if i == 0 or i % 2 == 0:\n",
        "      land += 1\n",
        "\n",
        "  return land, sum_list\n",
        "\n",
        "if __name__ == '__main__':\n",
        "  start_time = time.time()\n",
        "  print(count_land(boxes))\n",
        "  print(\"--- %s seconds ---\" % (time.time() - start_time))"
      ],
      "execution_count": 0,
      "outputs": [
        {
          "output_type": "stream",
          "text": [
            "[4.  3.5 5.  4. ]\n",
            "(9, [3, 3, 2, 2, 2, 2, 2, 2, 2, 1, 1, 0, 1, 0])\n",
            "--- 0.011786460876464844 seconds ---\n"
          ],
          "name": "stdout"
        }
      ]
    },
    {
      "cell_type": "markdown",
      "metadata": {
        "id": "o2eP3SQXeojU",
        "colab_type": "text"
      },
      "source": [
        "## np.meshgrid\n"
      ]
    },
    {
      "cell_type": "code",
      "metadata": {
        "id": "6yHjEIaKeyyF",
        "colab_type": "code",
        "outputId": "5120ae33-34b0-4991-f74e-90a2544470bc",
        "colab": {
          "base_uri": "https://localhost:8080/",
          "height": 196
        }
      },
      "source": [
        "def box_counts_meshgrid(a,rows,cols):\n",
        "        sub=a[np.meshgrid(rows,cols,indexing='ij')]\n",
        "        r,c = (sub==val).nonzero()\n",
        "        return take(rows,r),take(cols,c)\n",
        "\n",
        "box_counts_meshgrid(sorted_area,[0,1,2,3],[0,1,2,3])"
      ],
      "execution_count": 0,
      "outputs": [
        {
          "output_type": "error",
          "ename": "NameError",
          "evalue": "ignored",
          "traceback": [
            "\u001b[0;31m---------------------------------------------------------------------------\u001b[0m",
            "\u001b[0;31mNameError\u001b[0m                                 Traceback (most recent call last)",
            "\u001b[0;32m<ipython-input-12-5ae2d4c840c0>\u001b[0m in \u001b[0;36m<module>\u001b[0;34m()\u001b[0m\n\u001b[1;32m      4\u001b[0m         \u001b[0;32mreturn\u001b[0m \u001b[0mtake\u001b[0m\u001b[0;34m(\u001b[0m\u001b[0mrows\u001b[0m\u001b[0;34m,\u001b[0m\u001b[0mr\u001b[0m\u001b[0;34m)\u001b[0m\u001b[0;34m,\u001b[0m\u001b[0mtake\u001b[0m\u001b[0;34m(\u001b[0m\u001b[0mcols\u001b[0m\u001b[0;34m,\u001b[0m\u001b[0mc\u001b[0m\u001b[0;34m)\u001b[0m\u001b[0;34m\u001b[0m\u001b[0;34m\u001b[0m\u001b[0m\n\u001b[1;32m      5\u001b[0m \u001b[0;34m\u001b[0m\u001b[0m\n\u001b[0;32m----> 6\u001b[0;31m \u001b[0mbox_counts_meshgrid\u001b[0m\u001b[0;34m(\u001b[0m\u001b[0msorted_area\u001b[0m\u001b[0;34m,\u001b[0m\u001b[0;34m[\u001b[0m\u001b[0;36m0\u001b[0m\u001b[0;34m,\u001b[0m\u001b[0;36m1\u001b[0m\u001b[0;34m,\u001b[0m\u001b[0;36m2\u001b[0m\u001b[0;34m,\u001b[0m\u001b[0;36m3\u001b[0m\u001b[0;34m]\u001b[0m\u001b[0;34m,\u001b[0m\u001b[0;34m[\u001b[0m\u001b[0;36m0\u001b[0m\u001b[0;34m,\u001b[0m\u001b[0;36m1\u001b[0m\u001b[0;34m,\u001b[0m\u001b[0;36m2\u001b[0m\u001b[0;34m,\u001b[0m\u001b[0;36m3\u001b[0m\u001b[0;34m]\u001b[0m\u001b[0;34m)\u001b[0m\u001b[0;34m\u001b[0m\u001b[0;34m\u001b[0m\u001b[0m\n\u001b[0m",
            "\u001b[0;31mNameError\u001b[0m: name 'sorted_area' is not defined"
          ]
        }
      ]
    },
    {
      "cell_type": "code",
      "metadata": {
        "id": "1WhU84TSeq1i",
        "colab_type": "code",
        "outputId": "1b48db63-9ee7-4069-bd84-b0a90ec4ae7d",
        "colab": {
          "base_uri": "https://localhost:8080/",
          "height": 230
        }
      },
      "source": [
        "  box_counts = []\n",
        "  for i in sorted_area:\n",
        "    # if i[1] > x:\n",
        "    #   x = i[1]\n",
        "    #   continue\n",
        "    # if i[1] == x:\n",
        "    #   x = i-1[1]\n",
        "    #   continue\n",
        "    for j in sorted_area:\n",
        "      if i[0][0] < j[0][2] and i[0][0] > j[0][0] and i[0][1] < j[0][3] and i[0][1] > j[0][1] and i[0][2] < j[0][2] and i[0][2] > j[0][0] and i[0][3] > j[0][1] and i[0][3] < j[0][3]:\n",
        "        box_counts.append([1, i[2]])\n",
        "      else:\n",
        "        box_counts.append([0,i[2]])"
      ],
      "execution_count": 0,
      "outputs": [
        {
          "output_type": "error",
          "ename": "NameError",
          "evalue": "ignored",
          "traceback": [
            "\u001b[0;31m---------------------------------------------------------------------------\u001b[0m",
            "\u001b[0;31mNameError\u001b[0m                                 Traceback (most recent call last)",
            "\u001b[0;32m<ipython-input-13-fb935b7a874e>\u001b[0m in \u001b[0;36m<module>\u001b[0;34m()\u001b[0m\n\u001b[1;32m      1\u001b[0m \u001b[0mbox_counts\u001b[0m \u001b[0;34m=\u001b[0m \u001b[0;34m[\u001b[0m\u001b[0;34m]\u001b[0m\u001b[0;34m\u001b[0m\u001b[0;34m\u001b[0m\u001b[0m\n\u001b[0;32m----> 2\u001b[0;31m \u001b[0;32mfor\u001b[0m \u001b[0mi\u001b[0m \u001b[0;32min\u001b[0m \u001b[0msorted_area\u001b[0m\u001b[0;34m:\u001b[0m\u001b[0;34m\u001b[0m\u001b[0;34m\u001b[0m\u001b[0m\n\u001b[0m\u001b[1;32m      3\u001b[0m   \u001b[0;31m# if i[1] > x:\u001b[0m\u001b[0;34m\u001b[0m\u001b[0;34m\u001b[0m\u001b[0;34m\u001b[0m\u001b[0m\n\u001b[1;32m      4\u001b[0m   \u001b[0;31m#   x = i[1]\u001b[0m\u001b[0;34m\u001b[0m\u001b[0;34m\u001b[0m\u001b[0;34m\u001b[0m\u001b[0m\n\u001b[1;32m      5\u001b[0m   \u001b[0;31m#   continue\u001b[0m\u001b[0;34m\u001b[0m\u001b[0;34m\u001b[0m\u001b[0;34m\u001b[0m\u001b[0m\n",
            "\u001b[0;31mNameError\u001b[0m: name 'sorted_area' is not defined"
          ]
        }
      ]
    },
    {
      "cell_type": "code",
      "metadata": {
        "id": "Tr_UcT9hrsZC",
        "colab_type": "code",
        "outputId": "fd14e5d3-6947-4afc-fd09-0c58380cc364",
        "colab": {
          "base_uri": "https://localhost:8080/",
          "height": 54
        }
      },
      "source": [
        "      '''is this box inside this box. append (1), is the number (the number of boxes that its inside)\n",
        "       odd is the number zero'''\n",
        "    \n",
        "'''HOW MANY BOXES IS EACH BOX INSIDE?:\n",
        "\n",
        "1. ODD     SEA\n",
        "2. EVEN    LAND\n",
        "3. ZERO    LAND'''\n",
        "\n",
        "\n",
        "'''ask is each box inside another box? y/n - this will output a few that ar enot inside any others\n",
        "these are the first layer and can be assigned as LAND, should have an output\n",
        "boxID, land\n",
        "\n",
        "then identify box pair with the remainder, if they are in the first layer boxes they are sea\n",
        "then if they are in sea they are land\n",
        "then if they are in land they are sea\n",
        "so on until all have a label of land or sea\n",
        "\n",
        "then you find out which boxes are inside the first layer boxes - these are sea\n",
        "\n",
        "\n",
        "\n",
        "    iS this box around this box\n",
        "    is this box inside this box <----- can you only find out this one'''"
      ],
      "execution_count": 0,
      "outputs": [
        {
          "output_type": "execute_result",
          "data": {
            "text/plain": [
              "'ask is each box inside another box? y/n - this will output a few that ar enot inside any others\\nthese are the first layer and can be assigned as LAND, should have an output\\nboxID, land\\n\\nthen identify box pair with the remainder, if they are in the first layer boxes they are sea\\nthen if they are in sea they are land\\nthen if they are in land they are sea\\nso on until all have a label of land or sea\\n\\nthen you find out which boxes are inside the first layer boxes - these are sea\\n\\n\\n\\n    iS this box around this box\\n    is this box inside this box <----- can you only find out this one'"
            ]
          },
          "metadata": {
            "tags": []
          },
          "execution_count": 14
        }
      ]
    },
    {
      "cell_type": "code",
      "metadata": {
        "id": "I-UfNQpjUhN4",
        "colab_type": "code",
        "outputId": "9750a37f-0f44-4b5f-e8bc-83924fabc439",
        "colab": {
          "base_uri": "https://localhost:8080/",
          "height": 34
        }
      },
      "source": [
        "boxes.shape"
      ],
      "execution_count": 0,
      "outputs": [
        {
          "output_type": "execute_result",
          "data": {
            "text/plain": [
              "(14, 4)"
            ]
          },
          "metadata": {
            "tags": []
          },
          "execution_count": 31
        }
      ]
    },
    {
      "cell_type": "markdown",
      "metadata": {
        "id": "auPRVlzUn8Z8",
        "colab_type": "text"
      },
      "source": [
        "## Class\n"
      ]
    },
    {
      "cell_type": "code",
      "metadata": {
        "id": "QvZdmi_plV4A",
        "colab_type": "code",
        "outputId": "2bd8ac75-2a99-453c-a2ba-0ee635842a29",
        "colab": {
          "base_uri": "https://localhost:8080/",
          "height": 298
        }
      },
      "source": [
        "import matplotlib.pyplot as plt\n",
        "import matplotlib.patches\n",
        "import numpy as np\n",
        "import time\n",
        "\n",
        "class LandCount:\n",
        "  def read_input(self, filepath):\n",
        "    '''read the input array from a .txt and convert it to an appropriately shaped numpy array'''\n",
        "    with open(filepath, \"r\") as f:\n",
        "      n = int(f.readline())\n",
        "      boxes = []\n",
        "      for line in f:\n",
        "          boxes.append(line.split())\n",
        "    boxes = [float(j) for i in boxes for j in i]\n",
        "    boxes = np.reshape(boxes,(n,4))\n",
        "# TODO: add exceptions for invalid inputs\n",
        "    return boxes\n",
        "\n",
        "  def count_land(self, boxes):\n",
        "    '''count the land partitions in the boxes array and print the land_count'''\n",
        "    area_array = []\n",
        "    # area_array = np.array(area_array)\n",
        "    for j, i in enumerate(boxes):\n",
        "      area_array.append([i, (i[2]-i[0])*(i[3]-i[1]), j])\n",
        "    area_array = np.array(area_array)\n",
        "    sorted_area = area_array[area_array[:,1].argsort()]\n",
        "    # sorted_coordinates = sorted_area[:,0]\n",
        "\n",
        "    x = sorted_area[0][1]\n",
        "\n",
        "    box_counts = []\n",
        "\n",
        "    # sorted_area = np.tile(sorted_area, 1000000)\n",
        "    for i in sorted_area:\n",
        "      # if i[1] > x:\n",
        "      #   x = i[1]\n",
        "      #   continue\n",
        "      # if i[1] == x:\n",
        "      #   x = i-1[1]\n",
        "      #   continue\n",
        "      for j in sorted_area:\n",
        "        if i[0][0] < j[0][2] and i[0][0] > j[0][0] and i[0][1] < j[0][3] and i[0][1] > j[0][1] and i[0][2] < j[0][2] and i[0][2] > j[0][0] and i[0][3] > j[0][1] and i[0][3] < j[0][3]:\n",
        "          box_counts.append([1, i[2]])\n",
        "        else:\n",
        "          box_counts.append([0,i[2]])\n",
        "\n",
        "    box_counts = np.array(box_counts)\n",
        "    box_counts = np.split(box_counts[:,], np.cumsum(np.unique(box_counts[:, 1], return_counts=True)[1])[:-1])\n",
        "\n",
        "    sum_list = []\n",
        "    for i in box_counts:\n",
        "      sum_list.append(np.sum(i[:,0]))\n",
        "    \n",
        "    land = 0\n",
        "    for i in sum_list:\n",
        "      if i == 0 or i % 2 == 0:\n",
        "        land += 1\n",
        "\n",
        "    return '{} land partitions'.format(land)\n",
        "\n",
        "  def plot_boxes(self, boxes):\n",
        "    '''visualise the boxes and the land partitions they create'''\n",
        "    fig = plt.figure()\n",
        "    ax = fig.add_subplot(111)\n",
        "    ax.scatter(x=[boxes[:,0]],y=[boxes[:,1]],marker='o',alpha=0.0)\n",
        "\n",
        "    for i in boxes:\n",
        "      ax.add_patch(matplotlib.patches.Rectangle(xy = (i[0], i[1]), width = (i[2]-i[0]), height = (i[3]-i[1]), color = 'red', linewidth=1, fill=False))\n",
        "# TODO: add a fill color for the land partitions to make counting them by eye as a sanity check easier\n",
        "\n",
        "    return plt.show()\n",
        "    \n",
        "if __name__ == '__main__':\n",
        "  lc = LandCount()\n",
        "  lc.read_input(filepath)\n",
        "  start_time = time.time()\n",
        "  print(lc.count_land(boxes))\n",
        "  stop_time = time.time()\n",
        "  lc.plot_boxes(boxes)\n",
        "  print(\"Land count completed in %.3f milliseconds\" % (((stop_time - start_time))*1000))"
      ],
      "execution_count": 0,
      "outputs": [
        {
          "output_type": "stream",
          "text": [
            "9 land partitions\n"
          ],
          "name": "stdout"
        },
        {
          "output_type": "display_data",
          "data": {
            "image/png": "[encoded data removed]",
            "text/plain": [
              "<Figure size 432x288 with 1 Axes>"
            ]
          },
          "metadata": {
            "tags": []
          }
        },
        {
          "output_type": "stream",
          "text": [
            "Land count completed in 1.310 milliseconds\n"
          ],
          "name": "stdout"
        }
      ]
    },
    {
      "cell_type": "markdown",
      "metadata": {
        "id": "zTy2goKd81wV",
        "colab_type": "text"
      },
      "source": [
        "## Class 2"
      ]
    },
    {
      "cell_type": "code",
      "metadata": {
        "id": "OHJIqs-Y80Nb",
        "colab_type": "code",
        "outputId": "0fa33e57-27b4-4597-e33f-517978fb08b4",
        "colab": {
          "base_uri": "https://localhost:8080/",
          "height": 298
        }
      },
      "source": [
        "import matplotlib.pyplot as plt\n",
        "import matplotlib.patches\n",
        "import numpy as np\n",
        "import time\n",
        "\n",
        "class LandCount:\n",
        "  def read_input(self, filepath):\n",
        "    '''read the input array from a .txt and convert it to an appropriately shaped numpy array'''\n",
        "    with open(filepath, \"r\") as f:\n",
        "      n = int(f.readline())\n",
        "      boxes = []\n",
        "      for line in f:\n",
        "          boxes.append(line.split())\n",
        "    boxes = [float(j) for i in boxes for j in i]\n",
        "    boxes = np.reshape(boxes,(n,4))\n",
        "# TODO: add exceptions for invalid inputs\n",
        "    return boxes\n",
        "\n",
        "  def count_land(self, boxes):\n",
        "    '''count the land partitions in the boxes array and print the land_count'''\n",
        "    input_array = []\n",
        "    for j, i in enumerate(boxes):\n",
        "      input_array.append([i, j])\n",
        "    input_array = np.array(input_array)\n",
        "\n",
        "    # box_counts2 = []\n",
        "    # # # sorted_area = np.tile(sorted_area, 1000000)\n",
        "    # where_stuff = np.array([])\n",
        "    # print(input_array[0])\n",
        "    # print(input_array[])\n",
        "    # # print(input_array[0,0][0])\n",
        "    # print(input_array[0,0][2])\n",
        "    # where_stuff = np.where(input_array[0,0][0] < input_array[0,0][2], box_counts2.append([0,input_array[1]]), box_counts2.append([1, input_array[1]]))\n",
        "    box_counts = []\n",
        "    for i in input_array:\n",
        "      for j in input_array:\n",
        "        if i[0][0] < j[0][2] and i[0][0] > j[0][0] and i[0][1] < j[0][3] and i[0][1] > j[0][1] and i[0][2] < j[0][2] and i[0][2] > j[0][0] and i[0][3] > j[0][1] and i[0][3] < j[0][3]:\n",
        "          box_counts.append([1, i[1]])\n",
        "        else:\n",
        "          box_counts.append([0,i[1]])\n",
        "\n",
        "    box_counts = np.array(box_counts)\n",
        "    box_counts = np.split(box_counts[:,], np.cumsum(np.unique(box_counts[:, 1], return_counts=True)[1])[:-1])\n",
        "\n",
        "    sum_list = []\n",
        "    for i in box_counts:\n",
        "      sum_list.append(np.sum(i[:,0]))\n",
        "    \n",
        "    land = 0\n",
        "    for i in sum_list:\n",
        "      if i == 0 or i % 2 == 0:\n",
        "        land += 1\n",
        "\n",
        "    return '{} land partitions'.format(land)\n",
        "\n",
        "  def plot_boxes(self, boxes):\n",
        "    '''visualise the boxes and the land partitions they create'''\n",
        "    fig = plt.figure()\n",
        "    ax = fig.add_subplot(111)\n",
        "    ax.scatter(x=[boxes[:,0]],y=[boxes[:,1]],marker='o',alpha=0.0)\n",
        "\n",
        "    for i in boxes:\n",
        "      ax.add_patch(matplotlib.patches.Rectangle(xy = (i[0], i[1]), width = (i[2]-i[0]), height = (i[3]-i[1]), color = 'red', linewidth=1, fill=False))\n",
        "# TODO: add a fill color for the land partitions to make counting them by eye as a sanity check easier\n",
        "\n",
        "    return plt.show()\n",
        "    \n",
        "if __name__ == '__main__':\n",
        "\n",
        "  lc = LandCount()\n",
        "  lc.read_input(filepath)\n",
        "  start_time = time.time()\n",
        "  print(lc.count_land(boxes))\n",
        "  stop_time = time.time()\n",
        "  lc.plot_boxes(boxes)\n",
        "  print(\"Land count completed in %.3f milliseconds\" % (((stop_time - start_time))*1000))"
      ],
      "execution_count": 0,
      "outputs": [
        {
          "output_type": "stream",
          "text": [
            "9 land partitions\n"
          ],
          "name": "stdout"
        },
        {
          "output_type": "display_data",
          "data": {
            "image/png": "[encoded data removed]",
            "text/plain": [
              "<Figure size 432x288 with 1 Axes>"
            ]
          },
          "metadata": {
            "tags": []
          }
        },
        {
          "output_type": "stream",
          "text": [
            "Land count completed in 0.987 milliseconds\n"
          ],
          "name": "stdout"
        }
      ]
    },
    {
      "cell_type": "code",
      "metadata": {
        "id": "0DZi5r-ryRuV",
        "colab_type": "code",
        "outputId": "1f7ad1c6-7cf7-4b1e-b5fd-58e5a47cc203",
        "colab": {
          "base_uri": "https://localhost:8080/",
          "height": 34
        }
      },
      "source": [
        "print(LandCount.read_input.__doc__)"
      ],
      "execution_count": 0,
      "outputs": [
        {
          "output_type": "stream",
          "text": [
            "read the input array from a .txt and convert it to an appropriately shaped numpy array\n"
          ],
          "name": "stdout"
        }
      ]
    },
    {
      "cell_type": "markdown",
      "metadata": {
        "id": "gaqK-57AeL9K",
        "colab_type": "text"
      },
      "source": [
        "## Visualisation\n"
      ]
    },
    {
      "cell_type": "code",
      "metadata": {
        "id": "QQFTU_PIaasV",
        "colab_type": "code",
        "outputId": "d3c9ab91-fa08-4891-f806-30a76e8083b3",
        "colab": {
          "base_uri": "https://localhost:8080/",
          "height": 282
        }
      },
      "source": [
        "im = Image.new('RGB', (15, 15))\n",
        "draw = ImageDraw.Draw(im, 'RGBA')\n",
        "imshow(np.asarray(im))"
      ],
      "execution_count": 0,
      "outputs": [
        {
          "output_type": "execute_result",
          "data": {
            "text/plain": [
              "<matplotlib.image.AxesImage at 0x7f718cfcb3c8>"
            ]
          },
          "metadata": {
            "tags": []
          },
          "execution_count": 19
        },
        {
          "output_type": "display_data",
          "data": {
            "image/png": "[encoded data removed]",
            "text/plain": [
              "<Figure size 432x288 with 1 Axes>"
            ]
          },
          "metadata": {
            "tags": []
          }
        }
      ]
    },
    {
      "cell_type": "markdown",
      "metadata": {
        "id": "zltdOuFIdg3L",
        "colab_type": "text"
      },
      "source": [
        ""
      ]
    },
    {
      "cell_type": "code",
      "metadata": {
        "id": "l9Fw_9YBYX22",
        "colab_type": "code",
        "colab": {}
      },
      "source": [
        "# for i, j in enumerate(B):\n",
        "#   print(i, j)\n",
        "#   draw.rectangle((B[i][0], B[i][1], B[i][2], B[i][3]), fill=(0, 192, 192, 255), outline=(255, 255, 255))"
      ],
      "execution_count": 0,
      "outputs": []
    },
    {
      "cell_type": "code",
      "metadata": {
        "id": "xl6HQ3tydf-W",
        "colab_type": "code",
        "outputId": "63760a06-2b1f-4bdc-9176-9c62096d5ed3",
        "colab": {
          "base_uri": "https://localhost:8080/",
          "height": 500
        }
      },
      "source": [
        "for i in boxes:\n",
        "  print(i[0], i[1], i[2], i[3])\n",
        "  draw.rectangle((i[0], i[1], i[2], i[3]),fill = (0,120,0, 255),  outline=(255, 255, 255, 0), width = 0)\n",
        "  imshow(np.asarray(im))"
      ],
      "execution_count": 0,
      "outputs": [
        {
          "output_type": "stream",
          "text": [
            "1.0 1.0 10.0 6.0\n",
            "1.5 1.5 6.0 5.0\n",
            "2.0 2.0 3.0 3.0\n",
            "2.0 3.5 3.0 4.5\n",
            "3.5 2.0 5.5 4.5\n",
            "4.0 3.5 5.0 4.0\n",
            "4.0 2.5 5.0 3.0\n",
            "7.0 3.0 9.5 5.5\n",
            "7.5 4.0 8.0 5.0\n",
            "8.5 3.5 9.0 4.5\n",
            "3.0 7.0 8.0 10.0\n",
            "5.0 7.5 7.5 9.5\n",
            "5.5 8.0 6.0 9.0\n",
            "6.5 8.0 7.0 9.0\n"
          ],
          "name": "stdout"
        },
        {
          "output_type": "display_data",
          "data": {
            "image/png": "[encoded data removed]",
            "text/plain": [
              "<Figure size 432x288 with 1 Axes>"
            ]
          },
          "metadata": {
            "tags": []
          }
        }
      ]
    },
    {
      "cell_type": "code",
      "metadata": {
        "id": "9gjVE2Plc2lH",
        "colab_type": "code",
        "outputId": "d0d3d575-6fa2-4a24-d457-4632b7c0b610",
        "colab": {
          "base_uri": "https://localhost:8080/",
          "height": 282
        }
      },
      "source": [
        "B = boxes\n",
        "draw.rectangle((B[0][0], B[0][1], B[0][2], B[0][3]), fill=(0, 192, 192), outline=(255, 255, 255), width = 0)\n",
        "#draw.rectangle((B[1][0], B[1][1], B[1][2], B[1][3]), fill=(0, 192, 192), outline=(255, 255, 255), width = 0)\n",
        "#draw.rectangle((B[2][0], B[2][1], B[2][2], B[2][3]), fill=(0, 192, 192), outline=(255, 255, 255), width = 0)\n",
        "#draw.rectangle((B[3][0], B[3][1], B[3][2], B[3][3]), fill=(0, 192, 192), outline=(255, 255, 255), width = 0)\n",
        "#draw.rectangle((B[4][0], B[4][1], B[4][2], B[4][3]), fill=(0, 192, 192), outline=(255, 255, 255), width = 0)\n",
        "# draw.rectangle((B[5][0], B[5][1], B[5][2], B[5][3]), fill=(0, 192, 192), outline=(255, 255, 255), width = 0)\n",
        "# draw.rectangle((B[6][0], B[6][1], B[6][2], B[6][3]), fill=(0, 192, 192), outline=(255, 255, 255), width = 0)\n",
        "# draw.rectangle((B[7][0], B[7][1], B[7][2], B[7][3]), fill=(0, 192, 192), outline=(255, 255, 255), width = 0)\n",
        "imshow(np.asarray(im))"
      ],
      "execution_count": 0,
      "outputs": [
        {
          "output_type": "execute_result",
          "data": {
            "text/plain": [
              "<matplotlib.image.AxesImage at 0x7f718cf21e48>"
            ]
          },
          "metadata": {
            "tags": []
          },
          "execution_count": 22
        },
        {
          "output_type": "display_data",
          "data": {
            "image/png": "[encoded data removed]",
            "text/plain": [
              "<Figure size 432x288 with 1 Axes>"
            ]
          },
          "metadata": {
            "tags": []
          }
        }
      ]
    },
    {
      "cell_type": "code",
      "metadata": {
        "id": "_jQlnLbkTwkN",
        "colab_type": "code",
        "outputId": "81e60540-07ed-4e3c-8825-afee5969a3eb",
        "colab": {
          "base_uri": "https://localhost:8080/",
          "height": 252
        }
      },
      "source": [
        "boxes"
      ],
      "execution_count": 0,
      "outputs": [
        {
          "output_type": "execute_result",
          "data": {
            "text/plain": [
              "array([[ 1. ,  1. , 10. ,  6. ],\n",
              "       [ 1.5,  1.5,  6. ,  5. ],\n",
              "       [ 2. ,  2. ,  3. ,  3. ],\n",
              "       [ 2. ,  3.5,  3. ,  4.5],\n",
              "       [ 3.5,  2. ,  5.5,  4.5],\n",
              "       [ 4. ,  3.5,  5. ,  4. ],\n",
              "       [ 4. ,  2.5,  5. ,  3. ],\n",
              "       [ 7. ,  3. ,  9.5,  5.5],\n",
              "       [ 7.5,  4. ,  8. ,  5. ],\n",
              "       [ 8.5,  3.5,  9. ,  4.5],\n",
              "       [ 3. ,  7. ,  8. , 10. ],\n",
              "       [ 5. ,  7.5,  7.5,  9.5],\n",
              "       [ 5.5,  8. ,  6. ,  9. ],\n",
              "       [ 6.5,  8. ,  7. ,  9. ]])"
            ]
          },
          "metadata": {
            "tags": []
          },
          "execution_count": 23
        }
      ]
    },
    {
      "cell_type": "code",
      "metadata": {
        "id": "QGMkO2AKS8DO",
        "colab_type": "code",
        "outputId": "b62e368f-20d1-406c-b0f9-a03a04099403",
        "colab": {
          "base_uri": "https://localhost:8080/",
          "height": 50
        }
      },
      "source": [
        "boxes[:,0]\n",
        "boxes[:,1]"
      ],
      "execution_count": 0,
      "outputs": [
        {
          "output_type": "execute_result",
          "data": {
            "text/plain": [
              "array([1. , 1.5, 2. , 3.5, 2. , 3.5, 2.5, 3. , 4. , 3.5, 7. , 7.5, 8. ,\n",
              "       8. ])"
            ]
          },
          "metadata": {
            "tags": []
          },
          "execution_count": 24
        }
      ]
    },
    {
      "cell_type": "code",
      "metadata": {
        "id": "njopL6H0TiMO",
        "colab_type": "code",
        "outputId": "99c99fcc-8430-4e9a-a1c6-1f822ebe2450",
        "colab": {
          "base_uri": "https://localhost:8080/",
          "height": 265
        }
      },
      "source": [
        "from pylab import *\n",
        "import matplotlib.pyplot as plt\n",
        "\n",
        "# x = [0,2,-3,-1.5]\n",
        "# y = [0,3,1,-2.5]\n",
        "color=['m','g','r','b','g','r','o','m','g','r','b','g','r','o']\n",
        "\n",
        "fig = plt.figure()\n",
        "ax = fig.add_subplot(111)\n",
        "\n",
        "scatter(boxes[:,0],boxes[:,1], s=100 ,marker='o')\n",
        "scatter(boxes[:,2],boxes[:,3], s=100 ,marker='o')\n",
        "\n",
        "# [ plot( [dot_x,dot_x] ,[0,dot_y], '-', linewidth = 3 ) for dot_x,dot_y in zip(boxes[:,0],boxes[:,1]) ] \n",
        "# [ plot( [0,dot_x] ,[dot_y,dot_y], '-', linewidth = 3 ) for dot_x,dot_y in zip(boxes[:,0],boxes[:,1]) ]\n",
        "\n",
        "zip1 = zip(boxes[:,0],boxes[:,1])\n",
        "zip2 = zip(boxes[:,2],boxes[:,3])\n",
        "zip3 = zip(zip1, zip2)\n",
        "\n",
        "[ plot( [dot_x,dot_x] ,[0,dot_y], '-', linewidth = 3 ) for dot_x,dot_y in zip1] \n",
        "[ plot( [0,dot_x] ,[dot_y,dot_y], '-', linewidth = 3 ) for dot_x,dot_y in zip1]\n",
        "[ plot( [dot_x,dot_x] ,[0,dot_y], '-', linewidth = 3 ) for dot_x,dot_y in zip2] \n",
        "[ plot( [0,dot_x] ,[dot_y,dot_y], '-', linewidth = 3 ) for dot_x,dot_y in zip2]\n",
        "\n",
        "left,right = ax.get_xlim()\n",
        "low,high = ax.get_ylim()\n",
        "arrow( left, 0, right -left, 0, length_includes_head = True, head_width = 0.15 )\n",
        "arrow( 0, low, 0, high-low, length_includes_head = True, head_width = 0.15 ) \n",
        "\n",
        "grid()\n",
        "\n",
        "show()"
      ],
      "execution_count": 0,
      "outputs": [
        {
          "output_type": "display_data",
          "data": {
            "image/png": "[encoded data removed]",
            "text/plain": [
              "<Figure size 432x288 with 1 Axes>"
            ]
          },
          "metadata": {
            "tags": []
          }
        }
      ]
    },
    {
      "cell_type": "code",
      "metadata": {
        "id": "r6vMVlZyU33P",
        "colab_type": "code",
        "outputId": "1882382c-2631-4f18-97b7-bb06bcbcb596",
        "colab": {
          "base_uri": "https://localhost:8080/",
          "height": 500
        }
      },
      "source": [
        "fig = plt.figure()\n",
        "ax = fig.add_subplot(111)\n",
        "ax.scatter(\n",
        "    x=[boxes[:,0]],\n",
        "    y=[boxes[:,1]],\n",
        "    marker='o',\n",
        "    alpha=0.0)\n",
        "\n",
        "sea = False\n",
        "for i in boxes:\n",
        "  print(i[3])\n",
        "  # if j % 2 == 0:\n",
        "  #   sea = True\n",
        "  # else:\n",
        "  #   sea = False\n",
        "  ax.add_patch(matplotlib.patches.Rectangle(xy = (i[0], i[1]), width = (i[2]-i[0]), height = (i[3]-i[1]), color = 'red', linewidth=1, fill=sea))\n",
        "\n",
        "plt.show()"
      ],
      "execution_count": 0,
      "outputs": [
        {
          "output_type": "stream",
          "text": [
            "6.0\n",
            "5.0\n",
            "3.0\n",
            "4.5\n",
            "4.5\n",
            "4.0\n",
            "3.0\n",
            "5.5\n",
            "5.0\n",
            "4.5\n",
            "10.0\n",
            "9.5\n",
            "9.0\n",
            "9.0\n"
          ],
          "name": "stdout"
        },
        {
          "output_type": "display_data",
          "data": {
            "image/png": "[encoded data removed]",
            "text/plain": [
              "<Figure size 432x288 with 1 Axes>"
            ]
          },
          "metadata": {
            "tags": []
          }
        }
      ]
    },
    {
      "cell_type": "code",
      "metadata": {
        "id": "ZvfnHPMnZPlr",
        "colab_type": "code",
        "outputId": "3af4627c-0b16-404f-ddf5-bf8acd161691",
        "colab": {
          "base_uri": "https://localhost:8080/",
          "height": 265
        }
      },
      "source": [
        "import matplotlib.pyplot as plt\n",
        "import matplotlib.patches as patches\n",
        "import numpy as np\n",
        "\n",
        "data_set = np.array([\n",
        "    [.9, .9], [.85, 2.1], [1.2, 1.], [2.1, .95], [3., 1.1],\n",
        "    [3.9, .7], [4., 1.4], [4.2, 1.8], [2., 2.3], [3., 2.3],\n",
        "    [1.5, 1.8], [2., 1.5], [2.2, 2.], [2.6, 1.7], [2.7, 1.85]\n",
        "])\n",
        "categories = np.array([0, 0, 0, 0, 0, 0, 0, 0, 0, 0, 1, 1, 1, 1, 1])\n",
        "color1 = (0.69411766529083252, 0.3490196168422699, 0.15686275064945221, 1.0)\n",
        "color2 = (0.65098041296005249, 0.80784314870834351, 0.89019608497619629, 1.0)\n",
        "colormap = np.array([color1, color2])\n",
        "fig = plt.figure()\n",
        "ax = fig.add_subplot(111)\n",
        "ax.scatter(\n",
        "    x=[data_set[:, 0]],\n",
        "    y=[data_set[:, 1]],\n",
        "    c=colormap[categories],\n",
        "    marker='o',\n",
        "    alpha=0.9\n",
        ")\n",
        "\n",
        "margin = .1\n",
        "min_f0, max_f0 = min(data_set[10:, 0]) - margin, max(data_set[10:, 0]) + margin\n",
        "min_f1, max_f1 = min(data_set[10:, 1]) - margin, max(data_set[10:, 1]) + margin\n",
        "width = max_f0 - min_f0\n",
        "height = max_f1 - min_f1\n",
        "\n",
        "ax.add_patch(\n",
        "    patches.Rectangle(\n",
        "        xy=(min_f0, min_f1),  # point of origin.\n",
        "        width=width,\n",
        "        height=height,\n",
        "        linewidth=1,\n",
        "        color='red',\n",
        "        fill=False\n",
        "    )\n",
        ")\n",
        "\n",
        "plt.show()"
      ],
      "execution_count": 0,
      "outputs": [
        {
          "output_type": "display_data",
          "data": {
            "image/png": "[encoded data removed]",
            "text/plain": [
              "<Figure size 432x288 with 1 Axes>"
            ]
          },
          "metadata": {
            "tags": []
          }
        }
      ]
    },
    {
      "cell_type": "markdown",
      "metadata": {
        "id": "9Rr4FTBrhVEI",
        "colab_type": "text"
      },
      "source": [
        "## Testing\n"
      ]
    },
    {
      "cell_type": "code",
      "metadata": {
        "id": "pujho3-chXRW",
        "colab_type": "code",
        "colab": {}
      },
      "source": [
        "# if the dimensions of the array are not line 1 = length and 4 columns throw an error\n",
        "# if an invalid set of cartesian coordinates in passed through an error\n",
        "\n",
        "# make a script to create a random input array, an print out the number of land areas and a plot of the land so you can confirm by eye"
      ],
      "execution_count": 0,
      "outputs": []
    },
    {
      "cell_type": "code",
      "metadata": {
        "id": "yy59FZoc0WdU",
        "colab_type": "code",
        "colab": {}
      },
      "source": [
        "import LandCount\n",
        "import unittest\n",
        "\n",
        "\n",
        "class TestLandCount(unittest.TestCase):\n",
        "  '''a few simple unit tests'''\n",
        "  self.assertEqual(LandCount.read_input(filepath, n), 14)\n",
        "  self.assertEqual(LandCount.read_input(filepath, boxes.shape()), (n,4) )\n",
        "  self.assertEqual(LandCount.count_land(boxes), '9 land partitions')\n",
        "  with patch(\"LandCount.plot_boxes.matplotlib.pyplot.plt.show\") as show_patch:\n",
        "    plot_boxes()\n",
        "    assert show_patch.called\n",
        "\n",
        "## TODO create and test random valid inputs\n",
        "\n",
        "if __name__ == \"__main__\":\n",
        "  unittest.main()"
      ],
      "execution_count": 0,
      "outputs": []
    },
    {
      "cell_type": "markdown",
      "metadata": {
        "id": "LVtT2fK_cYU3",
        "colab_type": "text"
      },
      "source": [
        "## Random Input\n"
      ]
    },
    {
      "cell_type": "code",
      "metadata": {
        "id": "s8oBcQcZcnJk",
        "colab_type": "code",
        "colab": {}
      },
      "source": [
        "# make a random number of non-overlapping boxes, randomly\n",
        "import random\n",
        "\n",
        "\tdef test_random_valid_input(self):\n",
        "\t\t'''TODO create and test random valid inputs\n",
        "    valid input = a < c and b < d and non-overlapping'''\n",
        "\t\tn_boxes = random.randint(1,10)\n",
        "    a = []\n",
        "    b = []\n",
        "    c = []\n",
        "    d = []\n",
        "\n",
        "    for i in range(0, n_boxes):\n",
        "      a.append(round(random.uniform(1,10),2))\n",
        "      b.append(round(random.uniform(1,10),2))\n",
        "      c.append(round(random.uniform(max([a[i],b[i]]),10),2))\n",
        "      d.append(round(random.uniform(max([a[i],b[i]]),10),2))\n",
        "      random_input = np.column_stack([a, b, c, d])"
      ],
      "execution_count": 0,
      "outputs": []
    },
    {
      "cell_type": "code",
      "metadata": {
        "id": "1m67dm7ZeM9V",
        "colab_type": "code",
        "colab": {}
      },
      "source": [
        "# \n"
      ],
      "execution_count": 0,
      "outputs": []
    },
    {
      "cell_type": "code",
      "metadata": {
        "id": "nA27FNYmdbB0",
        "colab_type": "code",
        "colab": {}
      },
      "source": [
        "a = []\n",
        "b = []\n",
        "c = []\n",
        "d = []\n",
        "\n",
        "for i in range(0, n_boxes):\n",
        "  a.append(round(random.uniform(1,10),2))\n",
        "  b.append(round(random.uniform(1,10),2))\n",
        "  c.append(round(random.uniform(max([a[i],b[i]]),10),2))\n",
        "  d.append(round(random.uniform(max([a[i],b[i]]),10),2))\n",
        "\n",
        "print(a, b, c, d)\n",
        "random_input = np.column_stack([a, b, c, d])\n",
        "random_input"
      ],
      "execution_count": 0,
      "outputs": []
    },
    {
      "cell_type": "code",
      "metadata": {
        "id": "4bzmvpXSjzGR",
        "colab_type": "code",
        "colab": {}
      },
      "source": [
        "lc = LandCount()\n",
        "# # lc.read_input(filepath)\n",
        "# start_time = time.time()\n",
        "# print(lc.count_land(boxes))\n",
        "# stop_time = time.time()\n",
        "lc.plot_boxes(random_input)\n",
        "# print(\"Land count completed in %.3f milliseconds\" % (((stop_time - start_time))*1000))"
      ],
      "execution_count": 0,
      "outputs": []
    }
  ]
}